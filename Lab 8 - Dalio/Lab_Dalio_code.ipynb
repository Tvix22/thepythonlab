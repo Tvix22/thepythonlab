{
 "cells": [
  {
   "cell_type": "markdown",
   "metadata": {},
   "source": [
    "Para empezar, cargamos las librerias necesarias para poder backtestear la estrategia"
   ]
  },
  {
   "cell_type": "code",
   "execution_count": 73,
   "metadata": {},
   "outputs": [],
   "source": [
    "import pandas as pd\n",
    "import numpy as np\n",
    "import yfinance as yf\n",
    "import matplotlib.pyplot as plt\n",
    "import quantstats as qt\n",
    "%matplotlib inline"
   ]
  },
  {
   "cell_type": "markdown",
   "metadata": {},
   "source": [
    "Descargamos las timeseries de las cotizaciones historicas de los activos, de una fuente gratuita como puede ser Yahoo"
   ]
  },
  {
   "cell_type": "code",
   "execution_count": 135,
   "metadata": {},
   "outputs": [
    {
     "name": "stdout",
     "output_type": "stream",
     "text": [
      "[*********************100%***********************]  1 of 1 completed\n",
      "[*********************100%***********************]  1 of 1 completed\n",
      "[*********************100%***********************]  1 of 1 completed\n",
      "[*********************100%***********************]  1 of 1 completed\n",
      "[*********************100%***********************]  1 of 1 completed\n",
      "[*********************100%***********************]  1 of 1 completed\n"
     ]
    }
   ],
   "source": [
    "spy = yf.download('SPY')\n",
    "tlt = yf.download('TLT')\n",
    "ief = yf.download('IEF')\n",
    "dbc = yf.download('DBC')\n",
    "gld = yf.download('GLD')\n",
    "splv = yf.download('SPLV')"
   ]
  },
  {
   "cell_type": "markdown",
   "metadata": {},
   "source": [
    "Asignamos los pesos a cada uno de los activos, segun el asset allocation que dio Ray Dalio en el libro \"Money, Mastering The Game\" de Tony Robbins."
   ]
  },
  {
   "cell_type": "code",
   "execution_count": 125,
   "metadata": {},
   "outputs": [],
   "source": [
    "peso_spy = 0.3\n",
    "peso_tlt = 0.4\n",
    "peso_ief = 0.15\n",
    "peso_dbc = 0.075\n",
    "peso_gld = 0.075\n"
   ]
  },
  {
   "cell_type": "markdown",
   "metadata": {},
   "source": [
    "Creamos un dataframe, con los que nos interesa, en este caso, el porcentaje de cambio de los cierres ajustados para cada activo."
   ]
  },
  {
   "cell_type": "code",
   "execution_count": 138,
   "metadata": {},
   "outputs": [],
   "source": [
    "assets = pd.DataFrame()\n",
    "assets['gld'] = gld['Adj Close'].pct_change()\n",
    "assets['dbc'] = tlt['Adj Close'].pct_change()\n",
    "assets['ief'] = ief['Adj Close'].pct_change()\n",
    "assets['tlt'] = dbc['Adj Close'].pct_change()\n",
    "assets['spy'] = spy['Adj Close'].pct_change()\n",
    "assets['splv'] = splv['Adj Close'].pct_change()\n",
    "assets = assets.dropna()"
   ]
  },
  {
   "cell_type": "markdown",
   "metadata": {},
   "source": [
    "Y creamos los retornos de dicha composicion de cartera, multiplicando la ponderacion por el retorno y sumandolo a el resto de ponderaciones."
   ]
  },
  {
   "cell_type": "code",
   "execution_count": 120,
   "metadata": {},
   "outputs": [],
   "source": [
    "all_weather = peso_spy * assets['spy'] + \\\n",
    "peso_tlt * assets['tlt'] + \\\n",
    "peso_ief * assets['ief'] + \\\n",
    "peso_dbc * assets['dbc'] + \\\n",
    "peso_gld * assets['gld']"
   ]
  }
 ],
 "metadata": {
  "kernelspec": {
   "display_name": "Python 3",
   "language": "python",
   "name": "python3"
  },
  "language_info": {
   "codemirror_mode": {
    "name": "ipython",
    "version": 3
   },
   "file_extension": ".py",
   "mimetype": "text/x-python",
   "name": "python",
   "nbconvert_exporter": "python",
   "pygments_lexer": "ipython3",
   "version": "3.8.0"
  }
 },
 "nbformat": 4,
 "nbformat_minor": 4
}
