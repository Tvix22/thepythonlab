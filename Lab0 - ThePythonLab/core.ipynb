{
 "cells": [
  {
   "cell_type": "markdown",
   "metadata": {},
   "source": [
    "#### Cargamos todas las librerias necesarias "
   ]
  },
  {
   "cell_type": "code",
   "execution_count": 1,
   "metadata": {},
   "outputs": [
    {
     "name": "stderr",
     "output_type": "stream",
     "text": [
      "/home/pylab/pythonlabs_01/pythonlabs/lib/python3.5/importlib/_bootstrap.py:222: RuntimeWarning: numpy.dtype size changed, may indicate binary incompatibility. Expected 96, got 88\n",
      "  return f(*args, **kwds)\n"
     ]
    }
   ],
   "source": [
    "import pandas as pd # esperemos que pronto sea import MODIN as pd.\n",
    "import numpy as np \n",
    "import seaborn as sns\n",
    "import scipy \n",
    "import datetime \n",
    "import matplotlib.pyplot as plt\n",
    "plt.rcParams['figure.figsize'] = [16,9]\n",
    "plt.style.use('ggplot')"
   ]
  },
  {
   "cell_type": "markdown",
   "metadata": {},
   "source": [
    "#### Cargamos nuestro archivo pickle, con los datos previamente cargados"
   ]
  },
  {
   "cell_type": "code",
   "execution_count": 2,
   "metadata": {},
   "outputs": [],
   "source": [
    "data = pd.read_pickle('/home/pylab/pythonlabs_01/pythonlabs/datasets/pickle/VIX_Stats.pickle')"
   ]
  },
  {
   "cell_type": "markdown",
   "metadata": {},
   "source": [
    "### Realizamos un analisis exploratorio de los datos"
   ]
  },
  {
   "cell_type": "code",
   "execution_count": 3,
   "metadata": {},
   "outputs": [
    {
     "data": {
      "text/plain": [
       "DatetimeIndex(['2018-01-02', '2018-05-16', '2018-01-19', '2018-04-10',\n",
       "               '2019-01-30', '2018-05-10', '2018-10-10', '2018-02-01',\n",
       "               '2018-11-21', '2018-06-04',\n",
       "               ...\n",
       "               '2018-10-08', '2018-01-04', '2019-03-14', '2019-01-07',\n",
       "               '2019-01-29', '2018-10-18', '2018-11-14', '2018-08-06',\n",
       "               '2018-05-02', '2018-11-29'],\n",
       "              dtype='datetime64[ns]', name='quotedate', length=304, freq=None)"
      ]
     },
     "execution_count": 3,
     "metadata": {},
     "output_type": "execute_result"
    }
   ],
   "source": [
    "data.index ## Indice Datatime"
   ]
  },
  {
   "cell_type": "code",
   "execution_count": 4,
   "metadata": {},
   "outputs": [
    {
     "data": {
      "text/plain": [
       "(304, 8)"
      ]
     },
     "execution_count": 4,
     "metadata": {},
     "output_type": "execute_result"
    }
   ],
   "source": [
    "data.shape ## ( Filas x columnas )"
   ]
  },
  {
   "cell_type": "code",
   "execution_count": 5,
   "metadata": {},
   "outputs": [
    {
     "data": {
      "text/plain": [
       "Index(['symbol', 'calliv', 'calloi', 'callvol', 'putiv', 'putoi', 'putvol',\n",
       "       'meaniv'],\n",
       "      dtype='object')"
      ]
     },
     "execution_count": 5,
     "metadata": {},
     "output_type": "execute_result"
    }
   ],
   "source": [
    "data.columns ## Nombre de las columnas"
   ]
  },
  {
   "cell_type": "code",
   "execution_count": 6,
   "metadata": {},
   "outputs": [
    {
     "data": {
      "text/html": [
       "<div>\n",
       "<style scoped>\n",
       "    .dataframe tbody tr th:only-of-type {\n",
       "        vertical-align: middle;\n",
       "    }\n",
       "\n",
       "    .dataframe tbody tr th {\n",
       "        vertical-align: top;\n",
       "    }\n",
       "\n",
       "    .dataframe thead th {\n",
       "        text-align: right;\n",
       "    }\n",
       "</style>\n",
       "<table border=\"1\" class=\"dataframe\">\n",
       "  <thead>\n",
       "    <tr style=\"text-align: right;\">\n",
       "      <th></th>\n",
       "      <th>symbol</th>\n",
       "      <th>calliv</th>\n",
       "      <th>calloi</th>\n",
       "      <th>callvol</th>\n",
       "      <th>putiv</th>\n",
       "      <th>putoi</th>\n",
       "      <th>putvol</th>\n",
       "      <th>meaniv</th>\n",
       "    </tr>\n",
       "    <tr>\n",
       "      <th>quotedate</th>\n",
       "      <th></th>\n",
       "      <th></th>\n",
       "      <th></th>\n",
       "      <th></th>\n",
       "      <th></th>\n",
       "      <th></th>\n",
       "      <th></th>\n",
       "      <th></th>\n",
       "    </tr>\n",
       "  </thead>\n",
       "  <tbody>\n",
       "    <tr>\n",
       "      <th>2018-01-02</th>\n",
       "      <td>VIX</td>\n",
       "      <td>1.7990</td>\n",
       "      <td>7911657.0</td>\n",
       "      <td>474007.0</td>\n",
       "      <td>0.1765</td>\n",
       "      <td>1973447.0</td>\n",
       "      <td>134049.0</td>\n",
       "      <td>0.9878</td>\n",
       "    </tr>\n",
       "    <tr>\n",
       "      <th>2018-05-16</th>\n",
       "      <td>VIX</td>\n",
       "      <td>1.2146</td>\n",
       "      <td>6510396.0</td>\n",
       "      <td>351323.0</td>\n",
       "      <td>0.4793</td>\n",
       "      <td>2390787.0</td>\n",
       "      <td>100156.0</td>\n",
       "      <td>0.8470</td>\n",
       "    </tr>\n",
       "    <tr>\n",
       "      <th>2018-01-19</th>\n",
       "      <td>VIX</td>\n",
       "      <td>1.4848</td>\n",
       "      <td>8290013.0</td>\n",
       "      <td>320794.0</td>\n",
       "      <td>0.5489</td>\n",
       "      <td>1816758.0</td>\n",
       "      <td>225070.0</td>\n",
       "      <td>1.0168</td>\n",
       "    </tr>\n",
       "    <tr>\n",
       "      <th>2018-04-10</th>\n",
       "      <td>VIX</td>\n",
       "      <td>0.7967</td>\n",
       "      <td>5599924.0</td>\n",
       "      <td>501640.0</td>\n",
       "      <td>1.2191</td>\n",
       "      <td>2522041.0</td>\n",
       "      <td>141925.0</td>\n",
       "      <td>1.0079</td>\n",
       "    </tr>\n",
       "    <tr>\n",
       "      <th>2019-01-30</th>\n",
       "      <td>VIX</td>\n",
       "      <td>1.1035</td>\n",
       "      <td>5792940.0</td>\n",
       "      <td>158592.0</td>\n",
       "      <td>0.7216</td>\n",
       "      <td>1643864.0</td>\n",
       "      <td>175943.0</td>\n",
       "      <td>0.9125</td>\n",
       "    </tr>\n",
       "  </tbody>\n",
       "</table>\n",
       "</div>"
      ],
      "text/plain": [
       "           symbol  calliv     calloi   callvol   putiv      putoi    putvol  \\\n",
       "quotedate                                                                     \n",
       "2018-01-02    VIX  1.7990  7911657.0  474007.0  0.1765  1973447.0  134049.0   \n",
       "2018-05-16    VIX  1.2146  6510396.0  351323.0  0.4793  2390787.0  100156.0   \n",
       "2018-01-19    VIX  1.4848  8290013.0  320794.0  0.5489  1816758.0  225070.0   \n",
       "2018-04-10    VIX  0.7967  5599924.0  501640.0  1.2191  2522041.0  141925.0   \n",
       "2019-01-30    VIX  1.1035  5792940.0  158592.0  0.7216  1643864.0  175943.0   \n",
       "\n",
       "            meaniv  \n",
       "quotedate           \n",
       "2018-01-02  0.9878  \n",
       "2018-05-16  0.8470  \n",
       "2018-01-19  1.0168  \n",
       "2018-04-10  1.0079  \n",
       "2019-01-30  0.9125  "
      ]
     },
     "execution_count": 6,
     "metadata": {},
     "output_type": "execute_result"
    }
   ],
   "source": [
    "data.head(5) # comprobamos integridad de los datos"
   ]
  },
  {
   "cell_type": "markdown",
   "metadata": {},
   "source": [
    "## El indice no es correcto, pues las fechas no estan ordenadas."
   ]
  },
  {
   "cell_type": "code",
   "execution_count": 7,
   "metadata": {},
   "outputs": [],
   "source": [
    "data = data.sort_index() ## Comprobamos siempre la intregridad de los datos, en este caso, al ser extraido de una base mayor, no estaba ordenado)"
   ]
  },
  {
   "cell_type": "code",
   "execution_count": 8,
   "metadata": {},
   "outputs": [
    {
     "data": {
      "text/html": [
       "<div>\n",
       "<style scoped>\n",
       "    .dataframe tbody tr th:only-of-type {\n",
       "        vertical-align: middle;\n",
       "    }\n",
       "\n",
       "    .dataframe tbody tr th {\n",
       "        vertical-align: top;\n",
       "    }\n",
       "\n",
       "    .dataframe thead th {\n",
       "        text-align: right;\n",
       "    }\n",
       "</style>\n",
       "<table border=\"1\" class=\"dataframe\">\n",
       "  <thead>\n",
       "    <tr style=\"text-align: right;\">\n",
       "      <th></th>\n",
       "      <th>symbol</th>\n",
       "      <th>calliv</th>\n",
       "      <th>calloi</th>\n",
       "      <th>callvol</th>\n",
       "      <th>putiv</th>\n",
       "      <th>putoi</th>\n",
       "      <th>putvol</th>\n",
       "      <th>meaniv</th>\n",
       "    </tr>\n",
       "    <tr>\n",
       "      <th>quotedate</th>\n",
       "      <th></th>\n",
       "      <th></th>\n",
       "      <th></th>\n",
       "      <th></th>\n",
       "      <th></th>\n",
       "      <th></th>\n",
       "      <th></th>\n",
       "      <th></th>\n",
       "    </tr>\n",
       "  </thead>\n",
       "  <tbody>\n",
       "    <tr>\n",
       "      <th>2018-01-02</th>\n",
       "      <td>VIX</td>\n",
       "      <td>1.799</td>\n",
       "      <td>7911657.0</td>\n",
       "      <td>474007.0</td>\n",
       "      <td>0.1765</td>\n",
       "      <td>1973447.0</td>\n",
       "      <td>134049.0</td>\n",
       "      <td>0.9878</td>\n",
       "    </tr>\n",
       "    <tr>\n",
       "      <th>2018-01-03</th>\n",
       "      <td>VIX</td>\n",
       "      <td>0.000</td>\n",
       "      <td>32282656.0</td>\n",
       "      <td>1775860.0</td>\n",
       "      <td>0.0000</td>\n",
       "      <td>8011824.0</td>\n",
       "      <td>1175408.0</td>\n",
       "      <td>0.0000</td>\n",
       "    </tr>\n",
       "    <tr>\n",
       "      <th>2018-01-04</th>\n",
       "      <td>VIX</td>\n",
       "      <td>0.000</td>\n",
       "      <td>32778204.0</td>\n",
       "      <td>1935276.0</td>\n",
       "      <td>0.0000</td>\n",
       "      <td>8362104.0</td>\n",
       "      <td>1577264.0</td>\n",
       "      <td>0.0000</td>\n",
       "    </tr>\n",
       "    <tr>\n",
       "      <th>2018-01-05</th>\n",
       "      <td>VIX</td>\n",
       "      <td>0.000</td>\n",
       "      <td>34095000.0</td>\n",
       "      <td>2288688.0</td>\n",
       "      <td>0.0000</td>\n",
       "      <td>9026580.0</td>\n",
       "      <td>908536.0</td>\n",
       "      <td>0.0000</td>\n",
       "    </tr>\n",
       "    <tr>\n",
       "      <th>2018-01-08</th>\n",
       "      <td>VIX</td>\n",
       "      <td>0.000</td>\n",
       "      <td>35199628.0</td>\n",
       "      <td>4845204.0</td>\n",
       "      <td>0.0000</td>\n",
       "      <td>9507436.0</td>\n",
       "      <td>445232.0</td>\n",
       "      <td>0.0000</td>\n",
       "    </tr>\n",
       "  </tbody>\n",
       "</table>\n",
       "</div>"
      ],
      "text/plain": [
       "           symbol  calliv      calloi    callvol   putiv      putoi  \\\n",
       "quotedate                                                             \n",
       "2018-01-02    VIX   1.799   7911657.0   474007.0  0.1765  1973447.0   \n",
       "2018-01-03    VIX   0.000  32282656.0  1775860.0  0.0000  8011824.0   \n",
       "2018-01-04    VIX   0.000  32778204.0  1935276.0  0.0000  8362104.0   \n",
       "2018-01-05    VIX   0.000  34095000.0  2288688.0  0.0000  9026580.0   \n",
       "2018-01-08    VIX   0.000  35199628.0  4845204.0  0.0000  9507436.0   \n",
       "\n",
       "               putvol  meaniv  \n",
       "quotedate                      \n",
       "2018-01-02   134049.0  0.9878  \n",
       "2018-01-03  1175408.0  0.0000  \n",
       "2018-01-04  1577264.0  0.0000  \n",
       "2018-01-05   908536.0  0.0000  \n",
       "2018-01-08   445232.0  0.0000  "
      ]
     },
     "execution_count": 8,
     "metadata": {},
     "output_type": "execute_result"
    }
   ],
   "source": [
    "data.head(5)"
   ]
  },
  {
   "cell_type": "markdown",
   "metadata": {},
   "source": [
    "**¿Que es la IV?** : La una prediccion realizada por consenso de mercado sobre el grado que el activo subyacente fluctuara en el futuro. Se estima en tiempo real, y la mas certera suele ser la que te proporciona el propio broker que operas    \n",
    "**¿Que es el OI?** Interes en abrir contratos, se utiliza para intuir las posiciones de los participantes, y dependiendo de la cola, deberiamos poder predecir, direccion del activo.   \n",
    "**¿Que es el VOL?** Cuando una order se ejecuta , forma parte del volumen. Es como la medida de los contratos negociados por unidad de tiempo."
   ]
  },
  {
   "cell_type": "markdown",
   "metadata": {},
   "source": [
    "En el proximo ariticulo, añadiremos la serie mas impoortante a nuestro data frame, y seguiremos adaptando el data frame a nuestras necesidades."
   ]
  },
  {
   "cell_type": "code",
   "execution_count": null,
   "metadata": {},
   "outputs": [],
   "source": []
  }
 ],
 "metadata": {
  "celltoolbar": "Edit Metadata",
  "kernelspec": {
   "display_name": "Python 3",
   "language": "python",
   "name": "python3"
  },
  "language_info": {
   "codemirror_mode": {
    "name": "ipython",
    "version": 3
   },
   "file_extension": ".py",
   "mimetype": "text/x-python",
   "name": "python",
   "nbconvert_exporter": "python",
   "pygments_lexer": "ipython3",
   "version": "3.7.3"
  }
 },
 "nbformat": 4,
 "nbformat_minor": 2
}
