{
 "cells": [
  {
   "cell_type": "markdown",
   "metadata": {},
   "source": [
    "Hablaremos largo y tendido sobre opciones, no tengais la menor duda, pero para empezar, con un articulo, que nos incie en el uso de pandas, el uso de series temporales, y algunas pinceladas sobre finanzas, me parece un buen aperitivo, que marcara la linea que se pretende conseguir en el blog."
   ]
  },
  {
   "cell_type": "markdown",
   "metadata": {
    "ExecuteTime": {
     "end_time": "2019-09-06T20:12:10.755927Z",
     "start_time": "2019-09-06T20:12:10.743923Z"
    }
   },
   "source": [
    "**¿Que es una opcion?** Es un contrato, donde el comprador adquiere un DERECHO a cambio de PAGAR un precio , y el vendedor adquiere una OBLIGACION a cambio de PERCIBIR un precio.    \n",
    "**¿Que tipo de opciones existen?** Existen las put y las call, cada una de ellas, para su ejecucion, necesita un comprador y un vendedor. Y es donde entran en juego los market makers, y la negociacion OTC, cosas que dejaremos para mas adelante.    \n",
    "**¿Que formatos de opciones existen?** Para mi, solo unas, las americanas, pero en realidad, hay muchisimos tipos, desde las Europeas, Bermuda, las Power, las Barreda, y luego tenemos aberraciones como los warrants o las binarias( donde en <a href='http://unespeculador.com/opciones-binarias-lo-que-la-verdad-esconde/'>este articulo</a> , <a href='https://twitter.com/enricjaimez'>EnricECP</a> habla sobre la esperanza matematica negativa de las opciones binarias)    \n",
    "**¿Que es el VIX? :** Es el indice que mide la volatilidad de las opciones PUT del S&P 500.  \n",
    "**¿Que es una opcion CALL? :** Es un derivado financiero, el cuall el comprador de la opcion, sale beneficiado con las subidas, y el vendedor de la opcion, sale beneficiado con las caidas.   \n",
    "**¿Que es una opcion PUT? :**  Es un derivado financiero, el cuall el comprador de la opcion, sale beneficiado con las caidas, y el vendedor de la opcion, sale beneficiado con las subidas, o los escenarios laterales (tema que trataremos en otro estudio)  "
   ]
  },
  {
   "cell_type": "code",
   "execution_count": null,
   "metadata": {},
   "outputs": [],
   "source": []
  }
 ],
 "metadata": {
  "kernelspec": {
   "display_name": "Python 3",
   "language": "python",
   "name": "python3"
  },
  "language_info": {
   "codemirror_mode": {
    "name": "ipython",
    "version": 3
   },
   "file_extension": ".py",
   "mimetype": "text/x-python",
   "name": "python",
   "nbconvert_exporter": "python",
   "pygments_lexer": "ipython3",
   "version": "3.7.3"
  }
 },
 "nbformat": 4,
 "nbformat_minor": 2
}
