{
 "cells": [
  {
   "cell_type": "code",
   "execution_count": null,
   "metadata": {},
   "outputs": [],
   "source": [
    "#Datos RAW de mercado\n",
    "#indces\n",
    "nq = pd.read_csv('NQ___CCS.csv',parse_dates=True,index_col=['Date'])\n",
    "es = pd.read_csv('ES___CCS.csv',parse_dates=True,index_col=['Date'])\n",
    "vx = pd.read_csv('VX___CCS.csv',parse_dates=True,index_col=['Date'])\n",
    "\n",
    "#bonos\n",
    "y10 = pd.read_csv('TY2__CCS.csv',parse_dates=True,index_col=['Date'])\n",
    "y30 = pd.read_csv('US2__CCS.csv',parse_dates=True,index_col=['Date'])\n",
    "\n",
    "#alternativos\n",
    "\n",
    "newhighs = quandl.get(\"URC/NASDAQ_52W_HI\", authtoken=\"xPLyKnHL4wCYWyyziuSs\")\n",
    "newlows = quandl.get(\"URC/NASDAQ_52W_LO\", authtoken=\"xPLyKnHL4wCYWyyziuSs\")\n",
    "nqhighs =quandl.get(\"URC/NASDAQ_ADV\", authtoken=\"xPLyKnHL4wCYWyyziuSs\")\n",
    "nqlows =quandl.get(\"URC/NASDAQ_DEC\", authtoken=\"xPLyKnHL4wCYWyyziuSs\")\n",
    "\n",
    "cot_30 = quandl.get(\"CFTC/020601_FO_ALL\", authtoken=\"xPLyKnHL4wCYWyyziuSs\")\n",
    "cot_30 = cot_30[['Dealer Longs','Dealer Shorts','Asset Manager Longs','Asset Manager Shorts','Leveraged Funds Longs','Leveraged Funds Shorts',\n",
    "        'Total Reportable Longs','Total Reportable Shorts','Non Reportable Longs','Non Reportable Shorts']]\n",
    "\n",
    "cot_vx = quandl.get(\"CFTC/1170E1_FO_ALL\", authtoken=\"xPLyKnHL4wCYWyyziuSs\")\n",
    "cot_vx = cot_vx[['Dealer Longs','Dealer Shorts','Asset Manager Longs','Asset Manager Shorts','Leveraged Funds Longs','Leveraged Funds Shorts',\n",
    "        'Total Reportable Longs','Total Reportable Shorts','Non Reportable Longs','Non Reportable Shorts']]\n",
    "\n",
    "#vx9d\n",
    "vx9 = pd.read_csv('https://www.cboe.com/publish/scheduledtask/mktdata/datahouse/vix9ddailyprices.csv',skiprows=3,parse_dates=True)\n",
    "vx9=vx9[['Date','Close']]\n",
    "vx9['Date']=vx9['Date'].str.strip('*')\n",
    "vx9['Date'] = pd.to_datetime(vx9['Date'], infer_datetime_format=True)\n",
    "vx9 = vx9.set_index('Date')"
   ]
  },
  {
   "cell_type": "code",
   "execution_count": null,
   "metadata": {},
   "outputs": [],
   "source": []
  }
 ],
 "metadata": {
  "kernelspec": {
   "display_name": "Python 3",
   "language": "python",
   "name": "python3"
  },
  "language_info": {
   "codemirror_mode": {
    "name": "ipython",
    "version": 3
   },
   "file_extension": ".py",
   "mimetype": "text/x-python",
   "name": "python",
   "nbconvert_exporter": "python",
   "pygments_lexer": "ipython3",
   "version": "3.8.3"
  }
 },
 "nbformat": 4,
 "nbformat_minor": 4
}
