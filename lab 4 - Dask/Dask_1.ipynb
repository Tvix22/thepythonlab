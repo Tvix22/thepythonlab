{
 "cells": [
  {
   "cell_type": "markdown",
   "metadata": {},
   "source": [
    "En este nuevo lab, vamos hacer una introduccion a la libreria de Dask. Dask es una liberia de codigo abierto y desarollada en cordinacion con Numpy Pandas y Scikit-Learn. Basicamente nos permite paralelizar procesos de python, y incluso hacer clusters de maquinas para nuestros procesos. Las posibilidades son ilimitadas, pero en este caso nos centraremos en la carga de grande dataframes, y como tratarlos posteriormente en pandas  \n",
    "La gracia de utilizar dask, es el utilizar los lazy dataframes, que es como una forma de trabajar con los datos \"por encima\" , y hasta que realmente no los necesitamos, no los procesamos.  \n",
    "  \n",
    "    \n",
    "  \n",
    "    \n",
    "Una vez explicado esto, empezamos!"
   ]
  },
  {
   "cell_type": "code",
   "execution_count": null,
   "metadata": {},
   "outputs": [],
   "source": [
    "# %load_ext autotime ## Utilizamos este complemento para poder monitorizar los tiempos que tarda en realizar cada accion\n",
    "import dask.dataframe as dd # importamos de dask el dataframe\n",
    "from dask.diagnostics import ProgressBar # y la barra de progreso, para saber \"donde estamos\""
   ]
  },
  {
   "cell_type": "markdown",
   "metadata": {},
   "source": [
    "Ahora vamos a cargar todos los archivos de una carpeta, dentro de nuestra variable df, lo creara en un lazy dataframe, por eso todo funciona de forma tan rapida."
   ]
  },
  {
   "cell_type": "code",
   "execution_count": 2,
   "metadata": {},
   "outputs": [
    {
     "name": "stdout",
     "output_type": "stream",
     "text": [
      "time: 5.32 s\n"
     ]
    }
   ],
   "source": [
    "df = dd.read_csv('/home/py/lab1/lab1/datasets/optionstats/*.csv',parse_dates=True) #insertar la ruta de su carpeta con los CSV\n"
   ]
  },
  {
   "cell_type": "markdown",
   "metadata": {},
   "source": [
    "Ahora, vamos a asignar un indice al dataframe, en este caso queremos que sea la columna de la fecha, en este proceso, ya no puedo realziarlo de forma \"lazy\" asi que, le toca computar."
   ]
  },
  {
   "cell_type": "code",
   "execution_count": 3,
   "metadata": {},
   "outputs": [
    {
     "name": "stdout",
     "output_type": "stream",
     "text": [
      "[########################################] | 100% Completed |  6min  8.0s\n",
      "time: 6min 13s\n"
     ]
    }
   ],
   "source": [
    "with ProgressBar(): # Para que nos muestre una barra de progreso.\n",
    "    df = df.set_index('quotedate')"
   ]
  },
  {
   "cell_type": "markdown",
   "metadata": {},
   "source": [
    "El tiempo de carga, no es demasiado excedido, puedo aseguraros, que con pandas, el proceso tarda como unas 4 veces mas aproximadamente."
   ]
  },
  {
   "cell_type": "markdown",
   "metadata": {},
   "source": [
    "Ahora vamos a volver a utilizar el formato lazy del dataframe, asignamos las columnas que queremos tener en nuestro dataframe, y como vemos, es un proceso casi instantaneo."
   ]
  },
  {
   "cell_type": "markdown",
   "metadata": {},
   "source": [
    "Vamos a ver que columnas, tienen los archivos csv, y cuales vamos a seleccionar"
   ]
  },
  {
   "cell_type": "code",
   "execution_count": 24,
   "metadata": {},
   "outputs": [
    {
     "data": {
      "text/plain": [
       "Index(['symbol', 'iv30call', 'iv30put', 'iv30mean', 'callvol', 'putvol',\n",
       "       'totalvol', 'calloi', 'putoi'],\n",
       "      dtype='object')"
      ]
     },
     "execution_count": 24,
     "metadata": {},
     "output_type": "execute_result"
    },
    {
     "name": "stdout",
     "output_type": "stream",
     "text": [
      "time: 5.65 ms\n"
     ]
    }
   ],
   "source": [
    "df.columns"
   ]
  },
  {
   "cell_type": "code",
   "execution_count": 4,
   "metadata": {},
   "outputs": [
    {
     "name": "stdout",
     "output_type": "stream",
     "text": [
      "time: 5.17 ms\n"
     ]
    }
   ],
   "source": [
    "cols = ['symbol','iv30call','iv30put','iv30mean','callvol','putvol','totalvol','calloi', 'putoi']\n",
    "df = df[cols]"
   ]
  },
  {
   "cell_type": "markdown",
   "metadata": {},
   "source": [
    "Vale, que bonito todo, pero a mi me gusta pandas, y veo que estamos trabajando con un dask.dataframe, no con un pandas datraframe, Esto tiene solucion?"
   ]
  },
  {
   "cell_type": "code",
   "execution_count": 10,
   "metadata": {},
   "outputs": [
    {
     "data": {
      "text/plain": [
       "dask.dataframe.core.DataFrame"
      ]
     },
     "execution_count": 10,
     "metadata": {},
     "output_type": "execute_result"
    },
    {
     "name": "stdout",
     "output_type": "stream",
     "text": [
      "time: 6.6 ms\n"
     ]
    }
   ],
   "source": [
    "type(df)"
   ]
  },
  {
   "cell_type": "markdown",
   "metadata": {},
   "source": [
    "Es muy simple, aqui es donde realmente se realiza todo el proceso, simplemente tenemos que pasar nuestro lazy dataframe a pandas mediante compute()."
   ]
  },
  {
   "cell_type": "code",
   "execution_count": 5,
   "metadata": {},
   "outputs": [
    {
     "name": "stdout",
     "output_type": "stream",
     "text": [
      "[########################################] | 100% Completed | 11min 27.4s\n",
      "time: 11min 35s\n"
     ]
    }
   ],
   "source": [
    "with ProgressBar():\n",
    "    dfcomp = df.compute()"
   ]
  },
  {
   "cell_type": "code",
   "execution_count": 9,
   "metadata": {},
   "outputs": [
    {
     "data": {
      "text/plain": [
       "pandas.core.frame.DataFrame"
      ]
     },
     "execution_count": 9,
     "metadata": {},
     "output_type": "execute_result"
    },
    {
     "name": "stdout",
     "output_type": "stream",
     "text": [
      "time: 6.94 ms\n"
     ]
    }
   ],
   "source": [
    "type(dfcomp)"
   ]
  },
  {
   "cell_type": "code",
   "execution_count": 11,
   "metadata": {},
   "outputs": [
    {
     "data": {
      "text/html": [
       "<div>\n",
       "<style scoped>\n",
       "    .dataframe tbody tr th:only-of-type {\n",
       "        vertical-align: middle;\n",
       "    }\n",
       "\n",
       "    .dataframe tbody tr th {\n",
       "        vertical-align: top;\n",
       "    }\n",
       "\n",
       "    .dataframe thead th {\n",
       "        text-align: right;\n",
       "    }\n",
       "</style>\n",
       "<table border=\"1\" class=\"dataframe\">\n",
       "  <thead>\n",
       "    <tr style=\"text-align: right;\">\n",
       "      <th></th>\n",
       "      <th>symbol</th>\n",
       "      <th>iv30call</th>\n",
       "      <th>iv30put</th>\n",
       "      <th>iv30mean</th>\n",
       "      <th>callvol</th>\n",
       "      <th>putvol</th>\n",
       "      <th>totalvol</th>\n",
       "      <th>calloi</th>\n",
       "      <th>putoi</th>\n",
       "    </tr>\n",
       "    <tr>\n",
       "      <th>quotedate</th>\n",
       "      <th></th>\n",
       "      <th></th>\n",
       "      <th></th>\n",
       "      <th></th>\n",
       "      <th></th>\n",
       "      <th></th>\n",
       "      <th></th>\n",
       "      <th></th>\n",
       "      <th></th>\n",
       "    </tr>\n",
       "  </thead>\n",
       "  <tbody>\n",
       "    <tr>\n",
       "      <th>1/10/2003</th>\n",
       "      <td>A</td>\n",
       "      <td>0.7304</td>\n",
       "      <td>0.9472</td>\n",
       "      <td>0.8388</td>\n",
       "      <td>1020</td>\n",
       "      <td>5985</td>\n",
       "      <td>7005</td>\n",
       "      <td>55877</td>\n",
       "      <td>52091</td>\n",
       "    </tr>\n",
       "    <tr>\n",
       "      <th>1/10/2003</th>\n",
       "      <td>AA</td>\n",
       "      <td>0.5049</td>\n",
       "      <td>0.4441</td>\n",
       "      <td>0.4745</td>\n",
       "      <td>767</td>\n",
       "      <td>750</td>\n",
       "      <td>1517</td>\n",
       "      <td>54286</td>\n",
       "      <td>44490</td>\n",
       "    </tr>\n",
       "    <tr>\n",
       "      <th>1/10/2003</th>\n",
       "      <td>AAI</td>\n",
       "      <td>0.7767</td>\n",
       "      <td>0.7680</td>\n",
       "      <td>0.7724</td>\n",
       "      <td>0</td>\n",
       "      <td>100</td>\n",
       "      <td>100</td>\n",
       "      <td>3562</td>\n",
       "      <td>9546</td>\n",
       "    </tr>\n",
       "    <tr>\n",
       "      <th>1/10/2003</th>\n",
       "      <td>AAP</td>\n",
       "      <td>0.4373</td>\n",
       "      <td>0.4469</td>\n",
       "      <td>0.4421</td>\n",
       "      <td>40</td>\n",
       "      <td>50</td>\n",
       "      <td>90</td>\n",
       "      <td>7236</td>\n",
       "      <td>3035</td>\n",
       "    </tr>\n",
       "    <tr>\n",
       "      <th>1/10/2003</th>\n",
       "      <td>AAPL</td>\n",
       "      <td>0.9099</td>\n",
       "      <td>0.7751</td>\n",
       "      <td>0.8425</td>\n",
       "      <td>4099</td>\n",
       "      <td>799</td>\n",
       "      <td>4898</td>\n",
       "      <td>159958</td>\n",
       "      <td>120683</td>\n",
       "    </tr>\n",
       "  </tbody>\n",
       "</table>\n",
       "</div>"
      ],
      "text/plain": [
       "          symbol  iv30call  iv30put  iv30mean  callvol  putvol  totalvol  \\\n",
       "quotedate                                                                  \n",
       "1/10/2003      A    0.7304   0.9472    0.8388     1020    5985      7005   \n",
       "1/10/2003     AA    0.5049   0.4441    0.4745      767     750      1517   \n",
       "1/10/2003    AAI    0.7767   0.7680    0.7724        0     100       100   \n",
       "1/10/2003    AAP    0.4373   0.4469    0.4421       40      50        90   \n",
       "1/10/2003   AAPL    0.9099   0.7751    0.8425     4099     799      4898   \n",
       "\n",
       "           calloi   putoi  \n",
       "quotedate                  \n",
       "1/10/2003   55877   52091  \n",
       "1/10/2003   54286   44490  \n",
       "1/10/2003    3562    9546  \n",
       "1/10/2003    7236    3035  \n",
       "1/10/2003  159958  120683  "
      ]
     },
     "execution_count": 11,
     "metadata": {},
     "output_type": "execute_result"
    },
    {
     "name": "stdout",
     "output_type": "stream",
     "text": [
      "time: 29.8 ms\n"
     ]
    }
   ],
   "source": [
    "dfcomp.head()"
   ]
  },
  {
   "cell_type": "markdown",
   "metadata": {},
   "source": [
    "Y para finalizar este lab vamos a comprobar el ratio de perdida de nuestro dataframe, deberia ser 0, si algun valor no es igual a 0, deberiamos revisar nuestros datos y entender por donde se escapan los datos."
   ]
  },
  {
   "cell_type": "code",
   "execution_count": 21,
   "metadata": {},
   "outputs": [
    {
     "name": "stdout",
     "output_type": "stream",
     "text": [
      "time: 1.05 s\n"
     ]
    }
   ],
   "source": [
    "valores_null = df.isnull().sum() #sumamos los valores null\n",
    "ratio_perdida = ((valores_null/df.index.size)*100) # sacamos el ratio entre valores null entre la longitud del dataframe"
   ]
  },
  {
   "cell_type": "markdown",
   "metadata": {},
   "source": [
    "Y como paso final, realizamos el .compute() para obtener nuestra serie de pandas."
   ]
  },
  {
   "cell_type": "code",
   "execution_count": 19,
   "metadata": {},
   "outputs": [
    {
     "name": "stdout",
     "output_type": "stream",
     "text": [
      "[########################################] | 100% Completed | 11min 51.5s\n",
      "time: 11min 58s\n"
     ]
    }
   ],
   "source": [
    "with ProgressBar():\n",
    "    ratio_perdida = ratio_perdida.compute()"
   ]
  },
  {
   "cell_type": "code",
   "execution_count": 20,
   "metadata": {},
   "outputs": [
    {
     "data": {
      "text/plain": [
       "symbol      0.0\n",
       "iv30call    0.0\n",
       "iv30put     0.0\n",
       "iv30mean    0.0\n",
       "callvol     0.0\n",
       "putvol      0.0\n",
       "totalvol    0.0\n",
       "calloi      0.0\n",
       "putoi       0.0\n",
       "dtype: float64"
      ]
     },
     "execution_count": 20,
     "metadata": {},
     "output_type": "execute_result"
    },
    {
     "name": "stdout",
     "output_type": "stream",
     "text": [
      "time: 6.96 ms\n"
     ]
    }
   ],
   "source": [
    "ratio_perdida"
   ]
  },
  {
   "cell_type": "code",
   "execution_count": null,
   "metadata": {},
   "outputs": [],
   "source": []
  }
 ],
 "metadata": {
  "kernelspec": {
   "display_name": "Python 3",
   "language": "python",
   "name": "python3"
  },
  "language_info": {
   "codemirror_mode": {
    "name": "ipython",
    "version": 3
   },
   "file_extension": ".py",
   "mimetype": "text/x-python",
   "name": "python",
   "nbconvert_exporter": "python",
   "pygments_lexer": "ipython3",
   "version": "3.5.3"
  }
 },
 "nbformat": 4,
 "nbformat_minor": 2
}
