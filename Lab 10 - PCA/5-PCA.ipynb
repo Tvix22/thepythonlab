{
 "cells": [
  {
   "cell_type": "code",
   "execution_count": 21,
   "metadata": {},
   "outputs": [
    {
     "name": "stdout",
     "output_type": "stream",
     "text": [
      "shape of X_pca (2168, 3)\n",
      "[0.28957657 0.17827025 0.08344746]\n",
      "suma: 0.5512942765472438\n"
     ]
    }
   ],
   "source": [
    "pca = PCA(n_components=3)\n",
    "principalComponents = pca.fit_transform(X)\n",
    "principalDf = pd.DataFrame(data = principalComponents\n",
    "             , columns = ['pca1', 'pca2','pca3']).set_index(X.index)\n",
    "print(\"shape of X_pca\", principalDf.shape)\n",
    "expl = pca.explained_variance_ratio_\n",
    "print(expl)\n",
    "print('suma:',sum(expl[0:16]))"
   ]
  },
  {
   "cell_type": "code",
   "execution_count": 22,
   "metadata": {},
   "outputs": [
    {
     "data": {
      "text/html": [
       "<div>\n",
       "<style scoped>\n",
       "    .dataframe tbody tr th:only-of-type {\n",
       "        vertical-align: middle;\n",
       "    }\n",
       "\n",
       "    .dataframe tbody tr th {\n",
       "        vertical-align: top;\n",
       "    }\n",
       "\n",
       "    .dataframe thead th {\n",
       "        text-align: right;\n",
       "    }\n",
       "</style>\n",
       "<table border=\"1\" class=\"dataframe\">\n",
       "  <thead>\n",
       "    <tr style=\"text-align: right;\">\n",
       "      <th></th>\n",
       "      <th>pca1</th>\n",
       "      <th>pca2</th>\n",
       "      <th>pca3</th>\n",
       "    </tr>\n",
       "    <tr>\n",
       "      <th>Date</th>\n",
       "      <th></th>\n",
       "      <th></th>\n",
       "      <th></th>\n",
       "    </tr>\n",
       "  </thead>\n",
       "  <tbody>\n",
       "    <tr>\n",
       "      <th>2011-02-01</th>\n",
       "      <td>-0.942361</td>\n",
       "      <td>-0.047399</td>\n",
       "      <td>-0.564197</td>\n",
       "    </tr>\n",
       "    <tr>\n",
       "      <th>2011-02-02</th>\n",
       "      <td>-0.946661</td>\n",
       "      <td>-0.038974</td>\n",
       "      <td>-0.574672</td>\n",
       "    </tr>\n",
       "    <tr>\n",
       "      <th>2011-02-03</th>\n",
       "      <td>-0.938188</td>\n",
       "      <td>-0.034657</td>\n",
       "      <td>-0.596333</td>\n",
       "    </tr>\n",
       "    <tr>\n",
       "      <th>2011-02-04</th>\n",
       "      <td>-0.920564</td>\n",
       "      <td>-0.030289</td>\n",
       "      <td>-0.656189</td>\n",
       "    </tr>\n",
       "    <tr>\n",
       "      <th>2011-02-07</th>\n",
       "      <td>-0.925990</td>\n",
       "      <td>-0.061899</td>\n",
       "      <td>-0.661457</td>\n",
       "    </tr>\n",
       "    <tr>\n",
       "      <th>...</th>\n",
       "      <td>...</td>\n",
       "      <td>...</td>\n",
       "      <td>...</td>\n",
       "    </tr>\n",
       "    <tr>\n",
       "      <th>2019-12-03</th>\n",
       "      <td>1.261114</td>\n",
       "      <td>0.591268</td>\n",
       "      <td>0.360982</td>\n",
       "    </tr>\n",
       "    <tr>\n",
       "      <th>2019-12-04</th>\n",
       "      <td>1.244976</td>\n",
       "      <td>0.526496</td>\n",
       "      <td>0.253212</td>\n",
       "    </tr>\n",
       "    <tr>\n",
       "      <th>2019-12-05</th>\n",
       "      <td>1.227544</td>\n",
       "      <td>0.505629</td>\n",
       "      <td>0.219236</td>\n",
       "    </tr>\n",
       "    <tr>\n",
       "      <th>2019-12-06</th>\n",
       "      <td>1.241850</td>\n",
       "      <td>0.474919</td>\n",
       "      <td>0.169300</td>\n",
       "    </tr>\n",
       "    <tr>\n",
       "      <th>2019-12-09</th>\n",
       "      <td>1.136755</td>\n",
       "      <td>0.548848</td>\n",
       "      <td>0.186680</td>\n",
       "    </tr>\n",
       "  </tbody>\n",
       "</table>\n",
       "<p>2168 rows × 3 columns</p>\n",
       "</div>"
      ],
      "text/plain": [
       "                pca1      pca2      pca3\n",
       "Date                                    \n",
       "2011-02-01 -0.942361 -0.047399 -0.564197\n",
       "2011-02-02 -0.946661 -0.038974 -0.574672\n",
       "2011-02-03 -0.938188 -0.034657 -0.596333\n",
       "2011-02-04 -0.920564 -0.030289 -0.656189\n",
       "2011-02-07 -0.925990 -0.061899 -0.661457\n",
       "...              ...       ...       ...\n",
       "2019-12-03  1.261114  0.591268  0.360982\n",
       "2019-12-04  1.244976  0.526496  0.253212\n",
       "2019-12-05  1.227544  0.505629  0.219236\n",
       "2019-12-06  1.241850  0.474919  0.169300\n",
       "2019-12-09  1.136755  0.548848  0.186680\n",
       "\n",
       "[2168 rows x 3 columns]"
      ]
     },
     "execution_count": 22,
     "metadata": {},
     "output_type": "execute_result"
    }
   ],
   "source": [
    "principalDf"
   ]
  },
  {
   "cell_type": "code",
   "execution_count": 23,
   "metadata": {},
   "outputs": [
    {
     "name": "stdout",
     "output_type": "stream",
     "text": [
      "shape of X_pca (2168, 4)\n",
      "[0.28957657 0.17827025 0.08344746 0.06301154]\n",
      "suma: 0.6143058188926562\n"
     ]
    }
   ],
   "source": [
    "pca = PCA(n_components=4)\n",
    "principalComponents = pca.fit_transform(X)\n",
    "principalDf = pd.DataFrame(data = principalComponents\n",
    "             , columns = ['pca1', 'pca2','pca3','pca4']).set_index(X.index)\n",
    "print(\"shape of X_pca\", principalDf.shape)\n",
    "expl = pca.explained_variance_ratio_\n",
    "print(expl)\n",
    "print('suma:',sum(expl[0:16]))"
   ]
  },
  {
   "cell_type": "code",
   "execution_count": 25,
   "metadata": {},
   "outputs": [
    {
     "name": "stdout",
     "output_type": "stream",
     "text": [
      "shape of X_pca (2168, 5)\n",
      "[0.28957657 0.17827025 0.08344746 0.06301154 0.04705533]\n",
      "suma: 0.6613611473195252\n"
     ]
    }
   ],
   "source": [
    "pca = PCA(n_components=5)\n",
    "principalComponents = pca.fit_transform(X)\n",
    "principalDf = pd.DataFrame(data = principalComponents\n",
    "             , columns = ['pca1', 'pca2','pca3','pca4','pca5']).set_index(X.index)\n",
    "print(\"shape of X_pca\", principalDf.shape)\n",
    "expl = pca.explained_variance_ratio_\n",
    "print(expl)\n",
    "print('suma:',sum(expl[0:16]))"
   ]
  },
  {
   "cell_type": "code",
   "execution_count": 26,
   "metadata": {},
   "outputs": [
    {
     "name": "stdout",
     "output_type": "stream",
     "text": [
      "shape of X_pca (2168, 8)\n",
      "[0.28957657 0.17827025 0.08344746 0.06301154 0.04705533 0.03846761\n",
      " 0.03172594 0.02789827]\n",
      "suma: 0.7594529681820242\n"
     ]
    }
   ],
   "source": [
    "pca = PCA(n_components=8)\n",
    "principalComponents = pca.fit_transform(X)\n",
    "principalDf = pd.DataFrame(data = principalComponents\n",
    "             , columns = ['pca1', 'pca2','pca3','pca4','pca5','pca6','pca7','pca8']).set_index(X.index)\n",
    "print(\"shape of X_pca\", principalDf.shape)\n",
    "expl = pca.explained_variance_ratio_\n",
    "print(expl)\n",
    "print('suma:',sum(expl[0:16]))"
   ]
  },
  {
   "cell_type": "code",
   "execution_count": 27,
   "metadata": {},
   "outputs": [
    {
     "name": "stdout",
     "output_type": "stream",
     "text": [
      "shape of X_pca (2168, 10)\n",
      "[0.28957657 0.17827025 0.08344746 0.06301154 0.04705533 0.03846764\n",
      " 0.03172605 0.02789902 0.02613213 0.02342828]\n",
      "suma: 0.8090142634638263\n"
     ]
    }
   ],
   "source": [
    "pca = PCA(n_components=10)\n",
    "principalComponents = pca.fit_transform(X)\n",
    "principalDf = pd.DataFrame(data = principalComponents\n",
    "             , columns = ['pca1', 'pca2','pca3','pca4','pca5','pca6','pca7','pca8','pca9','pca10']).set_index(X.index)\n",
    "print(\"shape of X_pca\", principalDf.shape)\n",
    "expl = pca.explained_variance_ratio_\n",
    "print(expl)\n",
    "print('suma:',sum(expl[0:16]))"
   ]
  },
  {
   "cell_type": "code",
   "execution_count": null,
   "metadata": {},
   "outputs": [],
   "source": []
  }
 ],
 "metadata": {
  "kernelspec": {
   "display_name": "Python 3",
   "language": "python",
   "name": "python3"
  },
  "language_info": {
   "codemirror_mode": {
    "name": "ipython",
    "version": 3
   },
   "file_extension": ".py",
   "mimetype": "text/x-python",
   "name": "python",
   "nbconvert_exporter": "python",
   "pygments_lexer": "ipython3",
   "version": "3.8.3"
  }
 },
 "nbformat": 4,
 "nbformat_minor": 4
}
