{
 "cells": [
  {
   "cell_type": "markdown",
   "metadata": {},
   "source": [
    "# Desmontando sistemas esotericos\n",
    "\n",
    " Vamos a empezar un lab donde demostraremos, que el trading astral, o basado en las lunas, es una falacia. Intentar relacionar dos femonemos independientes y mediante el sesgo narrativo, es hacerse trampas al solitario. \n",
    "\n",
    " En esta entrega, romperemos la creencia popular, de que \"la bolsa sube con la luna llena\". Pero bueno, a los escepticos, olvidaos de la luna, y tomad este notebook como un ejemplo claro de backtesting con pandas.\n",
    "\n",
    "Como van a salir muchisimos de engañados, diciendo que se compra en luna llena y se vende cuando la luna de valencia se alinea con la constelacion de saturno etc... dejamos abierta la puerta a los haters, para que nos den tareas de datascience para realizar.\n",
    "\n",
    "\n",
    "## Empezaremos cargando las librerias necesarias para dicho cometido\n",
    "Nos centraremos basicamente en pandas y matplotlib, por simplificar todo al maximo."
   ]
  },
  {
   "cell_type": "code",
   "execution_count": 1,
   "metadata": {
    "ExecuteTime": {
     "end_time": "2019-09-06T20:23:50.367492Z",
     "start_time": "2019-09-06T20:23:48.485624Z"
    }
   },
   "outputs": [],
   "source": [
    "import pandas as pd\n",
    "import numpy as np\n",
    "import matplotlib.pyplot as plt\n",
    "import matplotlib.pylab as pylb\n",
    "\n",
    "import warnings\n",
    "warnings.filterwarnings(\"ignore\")"
   ]
  },
  {
   "cell_type": "markdown",
   "metadata": {},
   "source": [
    "# Fuente de datos.\n",
    "\n",
    "En el grupo de Python Para Trading de Telegram, un usuario deseaba contrastar por el mismo el tema de las lunas, y creo un codigo, que catalogaba las fechas en funcion de su fase lunar, si el me da permiso, publicare el codigo, mientras tanto, teneis que fiaros de mi (o comprobar que las fechas esten bien)"
   ]
  },
  {
   "cell_type": "code",
   "execution_count": 2,
   "metadata": {
    "ExecuteTime": {
     "end_time": "2019-09-06T20:23:50.446567Z",
     "start_time": "2019-09-06T20:23:50.369497Z"
    }
   },
   "outputs": [
    {
     "data": {
      "text/html": [
       "<div>\n",
       "<style scoped>\n",
       "    .dataframe tbody tr th:only-of-type {\n",
       "        vertical-align: middle;\n",
       "    }\n",
       "\n",
       "    .dataframe tbody tr th {\n",
       "        vertical-align: top;\n",
       "    }\n",
       "\n",
       "    .dataframe thead th {\n",
       "        text-align: right;\n",
       "    }\n",
       "</style>\n",
       "<table border=\"1\" class=\"dataframe\">\n",
       "  <thead>\n",
       "    <tr style=\"text-align: right;\">\n",
       "      <th></th>\n",
       "      <th>Close</th>\n",
       "      <th>Volume</th>\n",
       "      <th>Luna</th>\n",
       "      <th>Retorno</th>\n",
       "    </tr>\n",
       "    <tr>\n",
       "      <th>Date</th>\n",
       "      <th></th>\n",
       "      <th></th>\n",
       "      <th></th>\n",
       "      <th></th>\n",
       "    </tr>\n",
       "  </thead>\n",
       "  <tbody>\n",
       "    <tr>\n",
       "      <th>1950-01-04</th>\n",
       "      <td>16.850000</td>\n",
       "      <td>1890000</td>\n",
       "      <td>First Quarter</td>\n",
       "      <td>0.011405</td>\n",
       "    </tr>\n",
       "    <tr>\n",
       "      <th>1950-01-05</th>\n",
       "      <td>16.930000</td>\n",
       "      <td>2550000</td>\n",
       "      <td>Full Moon</td>\n",
       "      <td>0.004748</td>\n",
       "    </tr>\n",
       "    <tr>\n",
       "      <th>1950-01-06</th>\n",
       "      <td>16.980000</td>\n",
       "      <td>2010000</td>\n",
       "      <td>Full Moon</td>\n",
       "      <td>0.002953</td>\n",
       "    </tr>\n",
       "    <tr>\n",
       "      <th>1950-01-09</th>\n",
       "      <td>17.080000</td>\n",
       "      <td>2520000</td>\n",
       "      <td>Full Moon</td>\n",
       "      <td>0.005889</td>\n",
       "    </tr>\n",
       "    <tr>\n",
       "      <th>1950-01-10</th>\n",
       "      <td>17.030001</td>\n",
       "      <td>2160000</td>\n",
       "      <td>Full Moon</td>\n",
       "      <td>-0.002927</td>\n",
       "    </tr>\n",
       "    <tr>\n",
       "      <th>1950-01-11</th>\n",
       "      <td>17.090000</td>\n",
       "      <td>2630000</td>\n",
       "      <td>Full Moon</td>\n",
       "      <td>0.003523</td>\n",
       "    </tr>\n",
       "    <tr>\n",
       "      <th>1950-01-12</th>\n",
       "      <td>16.760000</td>\n",
       "      <td>2970000</td>\n",
       "      <td>Last Quarter</td>\n",
       "      <td>-0.019310</td>\n",
       "    </tr>\n",
       "    <tr>\n",
       "      <th>1950-01-13</th>\n",
       "      <td>16.670000</td>\n",
       "      <td>3330000</td>\n",
       "      <td>Last Quarter</td>\n",
       "      <td>-0.005370</td>\n",
       "    </tr>\n",
       "    <tr>\n",
       "      <th>1950-01-16</th>\n",
       "      <td>16.719999</td>\n",
       "      <td>1460000</td>\n",
       "      <td>Last Quarter</td>\n",
       "      <td>0.002999</td>\n",
       "    </tr>\n",
       "    <tr>\n",
       "      <th>1950-01-17</th>\n",
       "      <td>16.860001</td>\n",
       "      <td>1790000</td>\n",
       "      <td>Last Quarter</td>\n",
       "      <td>0.008373</td>\n",
       "    </tr>\n",
       "  </tbody>\n",
       "</table>\n",
       "</div>"
      ],
      "text/plain": [
       "                Close   Volume           Luna   Retorno\n",
       "Date                                                   \n",
       "1950-01-04  16.850000  1890000  First Quarter  0.011405\n",
       "1950-01-05  16.930000  2550000      Full Moon  0.004748\n",
       "1950-01-06  16.980000  2010000      Full Moon  0.002953\n",
       "1950-01-09  17.080000  2520000      Full Moon  0.005889\n",
       "1950-01-10  17.030001  2160000      Full Moon -0.002927\n",
       "1950-01-11  17.090000  2630000      Full Moon  0.003523\n",
       "1950-01-12  16.760000  2970000   Last Quarter -0.019310\n",
       "1950-01-13  16.670000  3330000   Last Quarter -0.005370\n",
       "1950-01-16  16.719999  1460000   Last Quarter  0.002999\n",
       "1950-01-17  16.860001  1790000   Last Quarter  0.008373"
      ]
     },
     "execution_count": 2,
     "metadata": {},
     "output_type": "execute_result"
    }
   ],
   "source": [
    "df = pd.read_csv('SPLunar.csv',parse_dates=True,index_col=['Date'])\n",
    "cols = cols = ['Close', 'Volume', 'Luna', 'Retorno']\n",
    "df = df[cols]\n",
    "df.head(10)"
   ]
  },
  {
   "cell_type": "markdown",
   "metadata": {
    "ExecuteTime": {
     "end_time": "2019-07-09T16:36:34.211173Z",
     "start_time": "2019-07-09T16:36:34.201164Z"
    }
   },
   "source": [
    "Como podemos comprobar, empezamos en 1950, cuanta mas muestra mejor, mayor validez estadistica."
   ]
  },
  {
   "cell_type": "markdown",
   "metadata": {},
   "source": [
    "# Creando la primera condicion de entrada, comprar en luna llena, y vender cuando cambie de fase\n",
    "\n",
    "Vamos a demostrar la primera premisa basica. 'La bolsa sube cuando hay luna llena', tambien valdria para demostrar, que 'La bolsa baja cuando hay luna llena'\n",
    "Basicamente, nuestro trigger sera que la fase lunar sea igual a luna llena."
   ]
  },
  {
   "cell_type": "code",
   "execution_count": 3,
   "metadata": {
    "ExecuteTime": {
     "end_time": "2019-09-06T20:23:53.063184Z",
     "start_time": "2019-09-06T20:23:53.043166Z"
    }
   },
   "outputs": [],
   "source": [
    "df['entrada'] = np.where(df['Luna'] == 'Full Moon',1,0)"
   ]
  },
  {
   "cell_type": "code",
   "execution_count": 4,
   "metadata": {
    "ExecuteTime": {
     "end_time": "2019-09-06T20:23:54.343835Z",
     "start_time": "2019-09-06T20:23:54.004010Z"
    }
   },
   "outputs": [
    {
     "data": {
      "image/png": "[encoded data removed]",
      "text/plain": [
       "<Figure size 1224x504 with 1 Axes>"
      ]
     },
     "metadata": {
      "needs_background": "light"
     },
     "output_type": "display_data"
    }
   ],
   "source": [
    "df['TR'] = 0.\n",
    "df['TR'] = np.log(df['Close']/df['Close'].shift(1))\n",
    "df['TR'] = df['TR'].shift(-1)\n",
    "\n",
    "df['SR'] = 0.\n",
    "df['SR'] = np.where(df['entrada'] == True, df['TR'], -0)\n",
    "\n",
    "df['CMR'] = np.cumsum(df['TR'])\n",
    "df['CSR'] = np.cumsum(df['SR'])\n",
    "\n",
    "plt.figure(figsize=(17,7))\n",
    "plt.title('SPX VS Lunaticos', fontsize=16)\n",
    "plt.plot(df['CMR'], color='b', label='SPX')\n",
    "plt.plot(df['CSR'], color='r', label='Luna Lena')\n",
    "plt.legend()\n",
    "plt.show()"
   ]
  },
  {
   "cell_type": "markdown",
   "metadata": {},
   "source": [
    "# ¿Que ha pasado aqui?\n",
    "\n",
    "Pues como podemos ver, la luna llena no predice absolutamente nada, simplemente nos perdemos tiempo de mercado fuera, y por consecuencia, perdemos retorno\n",
    "\n",
    "Asi que vamos a dar paso a los cortos..."
   ]
  }
 ],
 "metadata": {
  "kernelspec": {
   "display_name": "Python 3",
   "language": "python",
   "name": "python3"
  },
  "language_info": {
   "codemirror_mode": {
    "name": "ipython",
    "version": 3
   },
   "file_extension": ".py",
   "mimetype": "text/x-python",
   "name": "python",
   "nbconvert_exporter": "python",
   "pygments_lexer": "ipython3",
   "version": "3.7.3"
  },
  "toc": {
   "base_numbering": 1,
   "nav_menu": {},
   "number_sections": true,
   "sideBar": true,
   "skip_h1_title": false,
   "title_cell": "Table of Contents",
   "title_sidebar": "Contents",
   "toc_cell": false,
   "toc_position": {},
   "toc_section_display": true,
   "toc_window_display": false
  },
  "varInspector": {
   "cols": {
    "lenName": 16,
    "lenType": 16,
    "lenVar": 40
   },
   "kernels_config": {
    "python": {
     "delete_cmd_postfix": "",
     "delete_cmd_prefix": "del ",
     "library": "var_list.py",
     "varRefreshCmd": "print(var_dic_list())"
    },
    "r": {
     "delete_cmd_postfix": ") ",
     "delete_cmd_prefix": "rm(",
     "library": "var_list.r",
     "varRefreshCmd": "cat(var_dic_list()) "
    }
   },
   "types_to_exclude": [
    "module",
    "function",
    "builtin_function_or_method",
    "instance",
    "_Feature"
   ],
   "window_display": false
  }
 },
 "nbformat": 4,
 "nbformat_minor": 2
}
