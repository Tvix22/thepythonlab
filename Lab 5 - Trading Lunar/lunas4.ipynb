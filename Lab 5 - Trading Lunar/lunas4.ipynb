{
 "cells": [
  {
   "cell_type": "markdown",
   "metadata": {},
   "source": [
    "# Ahora repasaremos las otras fases de la luna, simplemente cambiando la condicion de entrada, el resto del backtester sera absolutamente igual"
   ]
  },
  {
   "cell_type": "code",
   "execution_count": null,
   "metadata": {},
   "outputs": [],
   "source": [
    "df['entrada'] = np.where(df['Luna'] == 'Last Quarter',1,0)\n",
    "df['TR'] = 0.\n",
    "df['TR'] = np.log(df['Close']/df['Close'].shift(1))\n",
    "df['TR'] = df['TR'].shift(-1)\n",
    "\n",
    "df['SR'] = 0.\n",
    "df['SR'] = np.where(df['entrada'] == True, df['TR'], -0)\n",
    "\n",
    "df['CMR'] = np.cumsum(df['TR'])\n",
    "df['CSR'] = np.cumsum(df['SR'])\n",
    "\n",
    "plt.figure(figsize=(17,7))\n",
    "plt.title('SPX Largo VS Lunaticos', fontsize=16)\n",
    "plt.plot(df['CMR'], color='b', label='SPX')\n",
    "plt.plot(df['CSR'], color='r', label=' Last Quarter')\n",
    "plt.legend()\n",
    "plt.show()"
   ]
  },
  {
   "cell_type": "code",
   "execution_count": null,
   "metadata": {},
   "outputs": [],
   "source": []
  }
 ],
 "metadata": {
  "kernelspec": {
   "display_name": "Python 3",
   "language": "python",
   "name": "python3"
  },
  "language_info": {
   "codemirror_mode": {
    "name": "ipython",
    "version": 3
   },
   "file_extension": ".py",
   "mimetype": "text/x-python",
   "name": "python",
   "nbconvert_exporter": "python",
   "pygments_lexer": "ipython3",
   "version": "3.7.3"
  },
  "toc": {
   "base_numbering": 1,
   "nav_menu": {},
   "number_sections": true,
   "sideBar": true,
   "skip_h1_title": false,
   "title_cell": "Table of Contents",
   "title_sidebar": "Contents",
   "toc_cell": false,
   "toc_position": {},
   "toc_section_display": true,
   "toc_window_display": false
  },
  "varInspector": {
   "cols": {
    "lenName": 16,
    "lenType": 16,
    "lenVar": 40
   },
   "kernels_config": {
    "python": {
     "delete_cmd_postfix": "",
     "delete_cmd_prefix": "del ",
     "library": "var_list.py",
     "varRefreshCmd": "print(var_dic_list())"
    },
    "r": {
     "delete_cmd_postfix": ") ",
     "delete_cmd_prefix": "rm(",
     "library": "var_list.r",
     "varRefreshCmd": "cat(var_dic_list()) "
    }
   },
   "types_to_exclude": [
    "module",
    "function",
    "builtin_function_or_method",
    "instance",
    "_Feature"
   ],
   "window_display": false
  }
 },
 "nbformat": 4,
 "nbformat_minor": 2
}
