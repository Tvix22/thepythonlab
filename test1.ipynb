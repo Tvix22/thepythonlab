{
 "cells": [
  {
   "cell_type": "markdown",
   "metadata": {
    "ExecuteTime": {
     "end_time": "2019-07-25T19:50:04.062070Z",
     "start_time": "2019-07-25T19:50:04.051060Z"
    }
   },
   "source": [
    "## Este blog NO fomenta la inversion en Darwinex, consideramos que es un producto con demasiados riesgos para el inversor retail, basado en promesas de pago y apuntes contables. Pero si aun asi, te resulta interesante, deberias entender bien el subyacente de los darwins y al mismo tiempo conocer el darwin de verdad.  \n",
    "\n",
    "## Darwinex es un arma de doble filo, sirve tanto para dar vida y salidas a los gestores profesionales, o gente realmente cualificada, y tambien sirve para dar cobertura legal a toda clase de estafas y engañifas. Este articulo esta totalmente sesgado bajo mi criterio o mi experiencia personal, pero es la tonica general que se vive.  \n",
    " \n",
    "## Los darwins utilizados para analizar el portfolio que consideraremos como bueno, han sido SYO - THA - ZVQ - LVS  \n",
    "## Los darwins utilizados para analizar el portfolio que consideraremos como basura han sido BAS - CQY - EZN - HSM    \n",
    " \n",
    "\n",
    "## Los darwins considerados basura, los he considerado por el siguiente criterio: Captacion en Telegram o demas redes sociales, tratarse de influencers- alumnos de influencers , o gente sin criterio ninguno , mas que ## \"cuatro lineas mal tiradas, y gestionando el calzoncillos desde su casa\"  \n",
    " \n",
    "\n",
    "## Hay que dejar claro, que personalmente solo conozco al gestor de SYO, que es una INSTITUCION en el mundo del la gestion, deberia ser la referencia para toda la comunidad Darwinex.  \n",
    " \n",
    "\n",
    "## Y esto no lo hago por hateo a nadie, simplemente, por que cuando un INVERSOR añade dinero a su cuenta de DARWINEX para obtener una gestion patrimonial, es CAPITAL que deja de consumir en el presente, para poder ## isfrutar de una prima en el futuro , la RENTABILIDAD. Invertir en productos, como los que catalogamos en el porfolio basura, son un COSTE DE OPORTUNIDAD, y sin contar que dejamos las cosas al azar y demas factores  \n",
    " \n",
    "\n",
    "## Una vez dejado claro el contexto, vamos a ponernos a lo que mas nos gustsa, el codigo el codigo!  "
   ]
  },
  {
   "cell_type": "code",
   "execution_count": 2,
   "metadata": {
    "ExecuteTime": {
     "end_time": "2019-07-25T19:47:41.698699Z",
     "start_time": "2019-07-25T19:47:41.688680Z"
    }
   },
   "outputs": [],
   "source": [
    "import empyrical as ep\n",
    "import pandas as pd \n",
    "import datetime\n",
    "import numpy as np\n",
    "from matplotlib import pyplot as plt\n",
    "import matplotlib as mpl\n",
    "import matplotlib.pylab as pylab\n",
    "import sys, os\n",
    "import seaborn as sns\n",
    "from plotly import graph_objects as go\n",
    "\n",
    "%matplotlib inline\n",
    "mpl.rcParams['figure.dpi']= 300\n",
    "pd.set_option('display.float_format', lambda x: '%.3f' % x)\n",
    "sns.set_style(\"whitegrid\")\n",
    "sns.set_palette(\"Paired\")\n",
    "pylab.rcParams['figure.figsize'] = 16, 6"
   ]
  },
  {
   "cell_type": "markdown",
   "metadata": {
    "ExecuteTime": {
     "end_time": "2019-07-25T19:52:59.671067Z",
     "start_time": "2019-07-25T19:52:59.668074Z"
    }
   },
   "source": [
    "# Parte 1. Darwins Buenos.\n",
    "\n",
    "#### ¿Realmente buenos?  \n",
    "\n",
    "\n",
    "##### Retornos pasados **NO** garantizan retornos futuros, pero si que se puede hacer \"arqueologia\" sobre lo que hicieron, \n",
    "\n",
    "##### Consideramos que cada punto de variacion del darwin es 1 dolar, por simplificar"
   ]
  },
  {
   "cell_type": "code",
   "execution_count": null,
   "metadata": {},
   "outputs": [],
   "source": []
  }
 ],
 "metadata": {
  "kernelspec": {
   "display_name": "Python 3",
   "language": "python",
   "name": "python3"
  },
  "language_info": {
   "codemirror_mode": {
    "name": "ipython",
    "version": 3
   },
   "file_extension": ".py",
   "mimetype": "text/x-python",
   "name": "python",
   "nbconvert_exporter": "python",
   "pygments_lexer": "ipython3",
   "version": "3.7.3"
  },
  "varInspector": {
   "cols": {
    "lenName": 16,
    "lenType": 16,
    "lenVar": 40
   },
   "kernels_config": {
    "python": {
     "delete_cmd_postfix": "",
     "delete_cmd_prefix": "del ",
     "library": "var_list.py",
     "varRefreshCmd": "print(var_dic_list())"
    },
    "r": {
     "delete_cmd_postfix": ") ",
     "delete_cmd_prefix": "rm(",
     "library": "var_list.r",
     "varRefreshCmd": "cat(var_dic_list()) "
    }
   },
   "types_to_exclude": [
    "module",
    "function",
    "builtin_function_or_method",
    "instance",
    "_Feature"
   ],
   "window_display": false
  }
 },
 "nbformat": 4,
 "nbformat_minor": 2
}
