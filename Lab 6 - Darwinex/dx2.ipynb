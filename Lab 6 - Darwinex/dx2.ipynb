{
 "cells": [
  {
   "cell_type": "code",
   "execution_count": 15,
   "metadata": {
    "ExecuteTime": {
     "end_time": "2019-07-25T22:39:46.930243Z",
     "start_time": "2019-07-25T22:39:46.669005Z"
    }
   },
   "outputs": [],
   "source": [
    "import pandas as pd\n",
    "import empyrical as ep\n",
    "from matplotlib import pyplot as plt\n",
    "import matplotlib as mpl\n",
    "import matplotlib.pylab as pylab\n",
    "import warnings\n",
    "warnings.filterwarnings(\"ignore\")"
   ]
  },
  {
   "cell_type": "code",
   "execution_count": 1,
   "metadata": {
    "ExecuteTime": {
     "end_time": "2019-07-25T22:37:56.535938Z",
     "start_time": "2019-07-25T22:37:56.531924Z"
    }
   },
   "outputs": [],
   "source": [
    "vertedero = {\n",
    "\n",
    "    \"malos/BAS.CSV\":1,\n",
    "    \"malos/CQY.csv\":1,\n",
    "    \"malos/EZN.csv\":1,\n",
    "    \"malos/HSM.csv\":1\n",
    "}\n"
   ]
  },
  {
   "cell_type": "code",
   "execution_count": 4,
   "metadata": {
    "ExecuteTime": {
     "end_time": "2019-07-25T22:38:19.838014Z",
     "start_time": "2019-07-25T22:38:19.806969Z"
    }
   },
   "outputs": [],
   "source": [
    "df_sessionlogs_vertedero = {}\n",
    "\n",
    "for informe_path in vertedero:\n",
    "    multiplicador = vertedero[informe_path]\n",
    "    df = pd.read_csv(informe_path,parse_dates=True,index_col=['Date'])\n",
    "    df[\"Price\"] = df[\"Price\"] * multiplicador\n",
    "    df_sessionlogs_vertedero[informe_path] = df"
   ]
  },
  {
   "cell_type": "code",
   "execution_count": 5,
   "metadata": {
    "ExecuteTime": {
     "end_time": "2019-07-25T22:38:25.081421Z",
     "start_time": "2019-07-25T22:38:25.068411Z"
    }
   },
   "outputs": [],
   "source": [
    "df_portfolio_basurero = None\n",
    "\n",
    "for informe_path in df_sessionlogs_vertedero:\n",
    "    if df_portfolio_basurero is None:\n",
    "        df_portfolio_basurero = df_sessionlogs_vertedero[informe_path]\n",
    "        df_portfolio_basurero.columns = [informe_path]\n",
    "    else:\n",
    "        df_portfolio_basurero = df_portfolio_basurero.join(df_sessionlogs_vertedero[informe_path].rename(columns={\n",
    "            \"Price\":informe_path\n",
    "        })).fillna(0)\n",
    "\n",
    "df_portfolio_basurero[\"total\"] = df_portfolio_basurero.sum(axis=1)"
   ]
  },
  {
   "cell_type": "code",
   "execution_count": 6,
   "metadata": {
    "ExecuteTime": {
     "end_time": "2019-07-25T22:38:36.601828Z",
     "start_time": "2019-07-25T22:38:36.584812Z"
    }
   },
   "outputs": [
    {
     "data": {
      "text/html": [
       "<div>\n",
       "<style scoped>\n",
       "    .dataframe tbody tr th:only-of-type {\n",
       "        vertical-align: middle;\n",
       "    }\n",
       "\n",
       "    .dataframe tbody tr th {\n",
       "        vertical-align: top;\n",
       "    }\n",
       "\n",
       "    .dataframe thead th {\n",
       "        text-align: right;\n",
       "    }\n",
       "</style>\n",
       "<table border=\"1\" class=\"dataframe\">\n",
       "  <thead>\n",
       "    <tr style=\"text-align: right;\">\n",
       "      <th></th>\n",
       "      <th>Darwins BASURA</th>\n",
       "    </tr>\n",
       "  </thead>\n",
       "  <tbody>\n",
       "    <tr>\n",
       "      <th>Peor Sesion</th>\n",
       "      <td>-29.16</td>\n",
       "    </tr>\n",
       "    <tr>\n",
       "      <th>Peor Drawdown</th>\n",
       "      <td>-79.55</td>\n",
       "    </tr>\n",
       "    <tr>\n",
       "      <th>Capital Necesario</th>\n",
       "      <td>437.00</td>\n",
       "    </tr>\n",
       "  </tbody>\n",
       "</table>\n",
       "</div>"
      ],
      "text/plain": [
       "                   Darwins BASURA\n",
       "Peor Sesion                -29.16\n",
       "Peor Drawdown              -79.55\n",
       "Capital Necesario          437.00"
      ]
     },
     "execution_count": 6,
     "metadata": {},
     "output_type": "execute_result"
    }
   ],
   "source": [
    "peor_sesion_malo = df_portfolio_basurero[\"total\"].min()\n",
    "\n",
    "\n",
    "cumulative_malo = df_portfolio_basurero[\"total\"].cumsum().values\n",
    "max_return_malo = np.fmax.accumulate(cumulative_malo)\n",
    "peor_drawdown_malo = np.nanmin(cumulative_malo - max_return_malo)\n",
    "\n",
    "\n",
    "capital_sugerido_malo = abs(round(min(5*peor_drawdown_malo,15*peor_sesion_malo),0))\n",
    "\n",
    "\n",
    "df_estadisticas_malas = pd.DataFrame.from_dict({\n",
    "    \"Peor Sesion\": peor_sesion_malo,\n",
    "    \"Peor Drawdown\": peor_drawdown_malo,\n",
    "    \"Capital Necesario\": capital_sugerido_malo\n",
    "},\"index\")\n",
    "\n",
    "df_estadisticas_malas.columns = [\"Darwins BASURA\"]\n",
    "\n",
    "df_estadisticas_malas"
   ]
  },
  {
   "cell_type": "code",
   "execution_count": 12,
   "metadata": {
    "ExecuteTime": {
     "end_time": "2019-07-25T22:39:10.195664Z",
     "start_time": "2019-07-25T22:39:10.175656Z"
    }
   },
   "outputs": [],
   "source": [
    "df_returns_malo = (df_portfolio_basurero[\"total\"].cumsum() + capital_sugerido_malo).pct_change().dropna()\n",
    "\n",
    "df_performance_malo = pd.DataFrame.from_dict({\n",
    "    \"PyG\": df_portfolio_basurero[\"total\"].cumsum().values[-1],\n",
    "    \"Sesiones Analizadas\": len(df_portfolio_basurero),\n",
    "    \"Sesiones Ganadoras (%)\": 100 * len(df_portfolio_basurero[df_portfolio_basurero[\"total\"]>0]) /  len(df_portfolio_basurero[df_portfolio_basurero[\"total\"]!=0]),\n",
    "    \"ROI Anualizado\": 100 * ep.annual_return(df_returns_malo),\n",
    "    \"CAGR\" :  100 * ep.cagr(df_returns_malo),\n",
    "    \"Volatilidad Anualizada\": 100 *  ep.annual_volatility(df_returns_malo),\n",
    "    \"Profit Factor\":  df_returns_malo[df_returns_malo > 0].sum() / abs(df_returns_malo[df_returns_malo < 0].sum()),\n",
    "    \"Promedio Sesion Ganadora\":  df_portfolio_basurero[df_portfolio_basurero[\"total\"] > 0][\"total\"].mean(),\n",
    "    \"Promedio Sesion Perdedora\":  df_portfolio_basurero[df_portfolio_basurero[\"total\"] < 0][\"total\"].mean(),\n",
    "    \"Ratio Sharpe\": ep.sharpe_ratio(df_returns_malo),\n",
    "    \"Ratio Sortino\": ep.sortino_ratio(df_returns_malo),\n",
    "    \"Ratio Calmar\" :  ep.calmar_ratio(df_returns_malo),\n",
    "    \"Tail Ratio\" : ep.tail_ratio(df_returns_malo),\n",
    "    \"Omega Ratio\" : ep.omega_ratio(df_returns_malo),\n",
    "    \"Peor Sesion\": peor_sesion_malo,\n",
    "    \"Peor Drawdown\": peor_drawdown_malo,\n",
    "    \"Min Bankroll NoBust\": capital_sugerido_malo,\n",
    "    \"VAR95%\" : ep.value_at_risk(df_returns_malo,0.95),\n",
    "},\"index\")\n",
    "\n",
    "df_performance_malo.columns = [\"El Basurero\"]"
   ]
  },
  {
   "cell_type": "code",
   "execution_count": 13,
   "metadata": {
    "ExecuteTime": {
     "end_time": "2019-07-25T22:39:14.431972Z",
     "start_time": "2019-07-25T22:39:14.424956Z"
    }
   },
   "outputs": [
    {
     "data": {
      "text/html": [
       "<div>\n",
       "<style scoped>\n",
       "    .dataframe tbody tr th:only-of-type {\n",
       "        vertical-align: middle;\n",
       "    }\n",
       "\n",
       "    .dataframe tbody tr th {\n",
       "        vertical-align: top;\n",
       "    }\n",
       "\n",
       "    .dataframe thead th {\n",
       "        text-align: right;\n",
       "    }\n",
       "</style>\n",
       "<table border=\"1\" class=\"dataframe\">\n",
       "  <thead>\n",
       "    <tr style=\"text-align: right;\">\n",
       "      <th></th>\n",
       "      <th>El Basurero</th>\n",
       "    </tr>\n",
       "  </thead>\n",
       "  <tbody>\n",
       "    <tr>\n",
       "      <th>PyG</th>\n",
       "      <td>-7.340000</td>\n",
       "    </tr>\n",
       "    <tr>\n",
       "      <th>Sesiones Analizadas</th>\n",
       "      <td>595.000000</td>\n",
       "    </tr>\n",
       "    <tr>\n",
       "      <th>Sesiones Ganadoras (%)</th>\n",
       "      <td>50.673401</td>\n",
       "    </tr>\n",
       "    <tr>\n",
       "      <th>ROI Anualizado</th>\n",
       "      <td>-0.678434</td>\n",
       "    </tr>\n",
       "    <tr>\n",
       "      <th>CAGR</th>\n",
       "      <td>-0.678434</td>\n",
       "    </tr>\n",
       "    <tr>\n",
       "      <th>Volatilidad Anualizada</th>\n",
       "      <td>14.061705</td>\n",
       "    </tr>\n",
       "    <tr>\n",
       "      <th>Profit Factor</th>\n",
       "      <td>1.003832</td>\n",
       "    </tr>\n",
       "    <tr>\n",
       "      <th>Promedio Sesion Ganadora</th>\n",
       "      <td>2.815615</td>\n",
       "    </tr>\n",
       "    <tr>\n",
       "      <th>Promedio Sesion Perdedora</th>\n",
       "      <td>-2.917543</td>\n",
       "    </tr>\n",
       "    <tr>\n",
       "      <th>Ratio Sharpe</th>\n",
       "      <td>0.022088</td>\n",
       "    </tr>\n",
       "    <tr>\n",
       "      <th>Ratio Sortino</th>\n",
       "      <td>0.030325</td>\n",
       "    </tr>\n",
       "    <tr>\n",
       "      <th>Ratio Calmar</th>\n",
       "      <td>-0.043068</td>\n",
       "    </tr>\n",
       "    <tr>\n",
       "      <th>Tail Ratio</th>\n",
       "      <td>1.046029</td>\n",
       "    </tr>\n",
       "    <tr>\n",
       "      <th>Omega Ratio</th>\n",
       "      <td>1.003832</td>\n",
       "    </tr>\n",
       "    <tr>\n",
       "      <th>Peor Sesion</th>\n",
       "      <td>-29.160000</td>\n",
       "    </tr>\n",
       "    <tr>\n",
       "      <th>Peor Drawdown</th>\n",
       "      <td>-79.550000</td>\n",
       "    </tr>\n",
       "    <tr>\n",
       "      <th>Min Bankroll NoBust</th>\n",
       "      <td>437.000000</td>\n",
       "    </tr>\n",
       "    <tr>\n",
       "      <th>VAR95%</th>\n",
       "      <td>0.014399</td>\n",
       "    </tr>\n",
       "  </tbody>\n",
       "</table>\n",
       "</div>"
      ],
      "text/plain": [
       "                           El Basurero\n",
       "PyG                          -7.340000\n",
       "Sesiones Analizadas         595.000000\n",
       "Sesiones Ganadoras (%)       50.673401\n",
       "ROI Anualizado               -0.678434\n",
       "CAGR                         -0.678434\n",
       "Volatilidad Anualizada       14.061705\n",
       "Profit Factor                 1.003832\n",
       "Promedio Sesion Ganadora      2.815615\n",
       "Promedio Sesion Perdedora    -2.917543\n",
       "Ratio Sharpe                  0.022088\n",
       "Ratio Sortino                 0.030325\n",
       "Ratio Calmar                 -0.043068\n",
       "Tail Ratio                    1.046029\n",
       "Omega Ratio                   1.003832\n",
       "Peor Sesion                 -29.160000\n",
       "Peor Drawdown               -79.550000\n",
       "Min Bankroll NoBust         437.000000\n",
       "VAR95%                        0.014399"
      ]
     },
     "execution_count": 13,
     "metadata": {},
     "output_type": "execute_result"
    }
   ],
   "source": [
    "df_performance_malo"
   ]
  },
  {
   "cell_type": "code",
   "execution_count": null,
   "metadata": {},
   "outputs": [],
   "source": [
    "# Graficamos el portfolio\n",
    "fig = plt.figure(figsize=(22,9))\n",
    "\n",
    "plt.plot(df_portfolio_basurero.drop(\"total\", axis=1).cumsum())\n",
    "plt.plot(df_portfolio_basurero[\"total\"].cumsum(), linewidth=3);\n",
    "\n",
    "leg = plt.legend(df_portfolio_basurero.columns.values)\n",
    "plt.show()"
   ]
  }
 ],
 "metadata": {
  "kernelspec": {
   "display_name": "Python 3",
   "language": "python",
   "name": "python3"
  },
  "language_info": {
   "codemirror_mode": {
    "name": "ipython",
    "version": 3
   },
   "file_extension": ".py",
   "mimetype": "text/x-python",
   "name": "python",
   "nbconvert_exporter": "python",
   "pygments_lexer": "ipython3",
   "version": "3.7.3"
  },
  "varInspector": {
   "cols": {
    "lenName": 16,
    "lenType": 16,
    "lenVar": 40
   },
   "kernels_config": {
    "python": {
     "delete_cmd_postfix": "",
     "delete_cmd_prefix": "del ",
     "library": "var_list.py",
     "varRefreshCmd": "print(var_dic_list())"
    },
    "r": {
     "delete_cmd_postfix": ") ",
     "delete_cmd_prefix": "rm(",
     "library": "var_list.r",
     "varRefreshCmd": "cat(var_dic_list()) "
    }
   },
   "types_to_exclude": [
    "module",
    "function",
    "builtin_function_or_method",
    "instance",
    "_Feature"
   ],
   "window_display": false
  }
 },
 "nbformat": 4,
 "nbformat_minor": 2
}
