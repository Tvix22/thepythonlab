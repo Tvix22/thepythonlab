{
 "cells": [
  {
   "cell_type": "code",
   "execution_count": 1,
   "metadata": {
    "ExecuteTime": {
     "end_time": "2019-07-25T22:16:47.856947Z",
     "start_time": "2019-07-25T22:16:46.132587Z"
    }
   },
   "outputs": [],
   "source": [
    "import empyrical as ep\n",
    "import pandas as pd \n",
    "import datetime\n",
    "import numpy as np\n",
    "from matplotlib import pyplot as plt\n",
    "import matplotlib as mpl\n",
    "import matplotlib.pylab as pylab\n",
    "import sys, os\n",
    "import seaborn as sns\n",
    "from plotly import graph_objects as go\n",
    "\n",
    "%matplotlib inline\n",
    "mpl.rcParams['figure.dpi']= 300\n",
    "pd.set_option('display.float_format', lambda x: '%.3f' % x)\n",
    "sns.set_style(\"whitegrid\")\n",
    "sns.set_palette(\"Paired\")\n",
    "pylab.rcParams['figure.figsize'] = 16, 6\n"
   ]
  },
  {
   "cell_type": "code",
   "execution_count": 2,
   "metadata": {
    "ExecuteTime": {
     "end_time": "2019-07-25T22:16:52.391906Z",
     "start_time": "2019-07-25T22:16:52.388913Z"
    }
   },
   "outputs": [],
   "source": [
    "portfolio = {\n",
    "\n",
    "    \"guenos/SYO.CSV\":1, # ruta/ficherodarwin.csv : nivel de apalancamiento del mismo.\n",
    "    \"guenos/THA.csv\":1,\n",
    "    \"guenos/ZVQ.csv\":1,\n",
    "    \"guenos/LVS.csv\":1\n",
    "}\n"
   ]
  },
  {
   "cell_type": "code",
   "execution_count": 3,
   "metadata": {
    "ExecuteTime": {
     "end_time": "2019-07-25T22:16:59.606262Z",
     "start_time": "2019-07-25T22:16:59.567227Z"
    }
   },
   "outputs": [],
   "source": [
    "df_sessionlogs = {}\n",
    "\n",
    "for informe_path in portfolio:\n",
    "    multiplicador = portfolio[informe_path]\n",
    "    df = pd.read_csv(informe_path,parse_dates=True,index_col=['Date'])\n",
    "    df[\"Price\"] = df[\"Price\"] * multiplicador\n",
    "    df_sessionlogs[informe_path] = df"
   ]
  },
  {
   "cell_type": "code",
   "execution_count": 4,
   "metadata": {
    "ExecuteTime": {
     "end_time": "2019-07-25T22:17:07.001206Z",
     "start_time": "2019-07-25T22:17:06.988195Z"
    }
   },
   "outputs": [],
   "source": [
    "df_portfolio = None\n",
    "\n",
    "for informe_path in df_sessionlogs:\n",
    "    if df_portfolio is None:\n",
    "        df_portfolio = df_sessionlogs[informe_path]\n",
    "        df_portfolio.columns = [informe_path]\n",
    "    else:\n",
    "        df_portfolio = df_portfolio.join(df_sessionlogs[informe_path].rename(columns={\n",
    "            \"Price\":informe_path\n",
    "        })).fillna(0)\n",
    "        \n",
    "# Creamos la columna total con el PyG del portfolio\n",
    "df_portfolio[\"total\"] = df_portfolio.sum(axis=1)"
   ]
  },
  {
   "cell_type": "code",
   "execution_count": 5,
   "metadata": {
    "ExecuteTime": {
     "end_time": "2019-07-25T22:17:15.279434Z",
     "start_time": "2019-07-25T22:17:15.272427Z"
    }
   },
   "outputs": [],
   "source": [
    "# Calculamos la peor sesion\n",
    "peor_sesion = df_portfolio[\"total\"].min()\n",
    "\n",
    "# Calculamos el peor DD\n",
    "cumulative = df_portfolio[\"total\"].cumsum().values\n",
    "max_return = np.fmax.accumulate(cumulative)\n",
    "peor_drawdown = np.nanmin(cumulative - max_return)\n",
    "\n",
    "# Utilizamos una formula \"inventada\" para llegar a un capital minimo aceptable. \n",
    "capital_sugerido = abs(round(min(5*peor_drawdown,15*peor_sesion),0))\n",
    "\n",
    "# Creamos el DF con la informacion necesaria, y lo mostramos\n",
    "df_estadisticas = pd.DataFrame.from_dict({\n",
    "    \"Peor Sesion\": peor_sesion,\n",
    "    \"Peor Drawdown\": peor_drawdown,\n",
    "    \"Capital Necesario\": capital_sugerido\n",
    "},\"index\")\n",
    "\n",
    "df_estadisticas.columns = [\"Darwins Buenos\"]"
   ]
  },
  {
   "cell_type": "code",
   "execution_count": 6,
   "metadata": {
    "ExecuteTime": {
     "end_time": "2019-07-25T22:17:24.463381Z",
     "start_time": "2019-07-25T22:17:24.456386Z"
    }
   },
   "outputs": [
    {
     "data": {
      "text/html": [
       "<div>\n",
       "<style scoped>\n",
       "    .dataframe tbody tr th:only-of-type {\n",
       "        vertical-align: middle;\n",
       "    }\n",
       "\n",
       "    .dataframe tbody tr th {\n",
       "        vertical-align: top;\n",
       "    }\n",
       "\n",
       "    .dataframe thead th {\n",
       "        text-align: right;\n",
       "    }\n",
       "</style>\n",
       "<table border=\"1\" class=\"dataframe\">\n",
       "  <thead>\n",
       "    <tr style=\"text-align: right;\">\n",
       "      <th></th>\n",
       "      <th>Darwins Buenos</th>\n",
       "    </tr>\n",
       "  </thead>\n",
       "  <tbody>\n",
       "    <tr>\n",
       "      <th>Peor Sesion</th>\n",
       "      <td>-45.570</td>\n",
       "    </tr>\n",
       "    <tr>\n",
       "      <th>Peor Drawdown</th>\n",
       "      <td>-117.900</td>\n",
       "    </tr>\n",
       "    <tr>\n",
       "      <th>Capital Necesario</th>\n",
       "      <td>684.000</td>\n",
       "    </tr>\n",
       "  </tbody>\n",
       "</table>\n",
       "</div>"
      ],
      "text/plain": [
       "                   Darwins Buenos\n",
       "Peor Sesion               -45.570\n",
       "Peor Drawdown            -117.900\n",
       "Capital Necesario         684.000"
      ]
     },
     "execution_count": 6,
     "metadata": {},
     "output_type": "execute_result"
    }
   ],
   "source": [
    "df_estadisticas"
   ]
  },
  {
   "cell_type": "code",
   "execution_count": null,
   "metadata": {},
   "outputs": [],
   "source": []
  }
 ],
 "metadata": {
  "kernelspec": {
   "display_name": "Python 3",
   "language": "python",
   "name": "python3"
  },
  "language_info": {
   "codemirror_mode": {
    "name": "ipython",
    "version": 3
   },
   "file_extension": ".py",
   "mimetype": "text/x-python",
   "name": "python",
   "nbconvert_exporter": "python",
   "pygments_lexer": "ipython3",
   "version": "3.7.3"
  },
  "varInspector": {
   "cols": {
    "lenName": 16,
    "lenType": 16,
    "lenVar": 40
   },
   "kernels_config": {
    "python": {
     "delete_cmd_postfix": "",
     "delete_cmd_prefix": "del ",
     "library": "var_list.py",
     "varRefreshCmd": "print(var_dic_list())"
    },
    "r": {
     "delete_cmd_postfix": ") ",
     "delete_cmd_prefix": "rm(",
     "library": "var_list.r",
     "varRefreshCmd": "cat(var_dic_list()) "
    }
   },
   "types_to_exclude": [
    "module",
    "function",
    "builtin_function_or_method",
    "instance",
    "_Feature"
   ],
   "window_display": false
  }
 },
 "nbformat": 4,
 "nbformat_minor": 2
}
