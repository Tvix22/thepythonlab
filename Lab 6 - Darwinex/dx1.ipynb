{
 "cells": [
  {
   "cell_type": "markdown",
   "metadata": {},
   "source": [
    "## Cargamos todas las librerias necesarias"
   ]
  },
  {
   "cell_type": "code",
   "execution_count": 12,
   "metadata": {
    "ExecuteTime": {
     "end_time": "2019-07-25T22:49:12.369975Z",
     "start_time": "2019-07-25T22:49:12.359967Z"
    }
   },
   "outputs": [],
   "source": [
    "import empyrical as ep\n",
    "import pandas as pd \n",
    "import datetime\n",
    "import numpy as np\n",
    "from matplotlib import pyplot as plt\n",
    "import matplotlib as mpl\n",
    "import matplotlib.pylab as pylab\n",
    "import sys, os\n",
    "import warnings\n",
    "\n",
    "%matplotlib inline\n",
    "mpl.rcParams['figure.dpi']= 300\n",
    "pd.set_option('display.float_format', lambda x: '%.3f' % x)\n",
    "sns.set_style(\"whitegrid\")\n",
    "sns.set_palette(\"Paired\")\n",
    "pylab.rcParams['figure.figsize'] = 16, 6\n",
    "warnings.filterwarnings(\"ignore\")\n"
   ]
  },
  {
   "cell_type": "markdown",
   "metadata": {},
   "source": [
    "## Parte 1. ¿Darwins Buenos?"
   ]
  },
  {
   "cell_type": "markdown",
   "metadata": {},
   "source": [
    "¿Realmente buenos?\n",
    "Retornos pasados NO garantizan retornos futuros, pero si que se puede hacer \"arqueologia\" sobre lo que hicieron,\n",
    "Consideramos que cada punto de variacion del darwin es 1 dolar, por simplificar"
   ]
  },
  {
   "cell_type": "code",
   "execution_count": 2,
   "metadata": {
    "ExecuteTime": {
     "end_time": "2019-07-25T22:16:52.391906Z",
     "start_time": "2019-07-25T22:16:52.388913Z"
    }
   },
   "outputs": [],
   "source": [
    "portfolio = {\n",
    "\n",
    "    \"guenos/SYO.CSV\":1, # ruta/ficherodarwin.csv : nivel de apalancamiento del mismo.\n",
    "    \"guenos/THA.csv\":1,\n",
    "    \"guenos/ZVQ.csv\":1,\n",
    "    \"guenos/LVS.csv\":1\n",
    "}\n"
   ]
  },
  {
   "cell_type": "markdown",
   "metadata": {},
   "source": [
    "## Creamos un dataframe con todos los darwins, y ademas los sumamos para poder meterles mano"
   ]
  },
  {
   "cell_type": "code",
   "execution_count": 3,
   "metadata": {
    "ExecuteTime": {
     "end_time": "2019-07-25T22:16:59.606262Z",
     "start_time": "2019-07-25T22:16:59.567227Z"
    }
   },
   "outputs": [],
   "source": [
    "df_sessionlogs = {}\n",
    "\n",
    "for informe_path in portfolio:\n",
    "    multiplicador = portfolio[informe_path]\n",
    "    df = pd.read_csv(informe_path,parse_dates=True,index_col=['Date'])\n",
    "    df[\"Price\"] = df[\"Price\"] * multiplicador\n",
    "    df_sessionlogs[informe_path] = df"
   ]
  },
  {
   "cell_type": "code",
   "execution_count": 4,
   "metadata": {
    "ExecuteTime": {
     "end_time": "2019-07-25T22:17:07.001206Z",
     "start_time": "2019-07-25T22:17:06.988195Z"
    }
   },
   "outputs": [],
   "source": [
    "df_portfolio = None\n",
    "\n",
    "for informe_path in df_sessionlogs:\n",
    "    if df_portfolio is None:\n",
    "        df_portfolio = df_sessionlogs[informe_path]\n",
    "        df_portfolio.columns = [informe_path]\n",
    "    else:\n",
    "        df_portfolio = df_portfolio.join(df_sessionlogs[informe_path].rename(columns={\n",
    "            \"Price\":informe_path\n",
    "        })).fillna(0)\n",
    "        \n",
    "# Creamos la columna total con el PyG del portfolio\n",
    "df_portfolio[\"total\"] = df_portfolio.sum(axis=1)"
   ]
  },
  {
   "cell_type": "markdown",
   "metadata": {},
   "source": [
    "## Ahora vamos a calcular el capital minimo con el que entrar en el portfolio, No es la forma optima , pero si una aproximacion"
   ]
  },
  {
   "cell_type": "code",
   "execution_count": 5,
   "metadata": {
    "ExecuteTime": {
     "end_time": "2019-07-25T22:17:15.279434Z",
     "start_time": "2019-07-25T22:17:15.272427Z"
    }
   },
   "outputs": [],
   "source": [
    "# Calculamos la peor sesion\n",
    "peor_sesion = df_portfolio[\"total\"].min()\n",
    "\n",
    "# Calculamos el peor DD\n",
    "cumulative = df_portfolio[\"total\"].cumsum().values\n",
    "max_return = np.fmax.accumulate(cumulative)\n",
    "peor_drawdown = np.nanmin(cumulative - max_return)\n",
    "\n",
    "# Utilizamos una formula \"inventada\" para llegar a un capital minimo aceptable. \n",
    "capital_sugerido = abs(round(min(5*peor_drawdown,15*peor_sesion),0))\n",
    "\n",
    "# Creamos el DF con la informacion necesaria, y lo mostramos\n",
    "df_estadisticas = pd.DataFrame.from_dict({\n",
    "    \"Peor Sesion\": peor_sesion,\n",
    "    \"Peor Drawdown\": peor_drawdown,\n",
    "    \"Capital Necesario\": capital_sugerido\n",
    "},\"index\")\n",
    "\n",
    "df_estadisticas.columns = [\"Darwins Buenos\"]"
   ]
  },
  {
   "cell_type": "markdown",
   "metadata": {},
   "source": [
    "## Comprobamos que los DDs existen, y debemos controlarlos si no queremos ser fulminados por el mercado"
   ]
  },
  {
   "cell_type": "code",
   "execution_count": 6,
   "metadata": {
    "ExecuteTime": {
     "end_time": "2019-07-25T22:17:24.463381Z",
     "start_time": "2019-07-25T22:17:24.456386Z"
    }
   },
   "outputs": [
    {
     "data": {
      "text/html": [
       "<div>\n",
       "<style scoped>\n",
       "    .dataframe tbody tr th:only-of-type {\n",
       "        vertical-align: middle;\n",
       "    }\n",
       "\n",
       "    .dataframe tbody tr th {\n",
       "        vertical-align: top;\n",
       "    }\n",
       "\n",
       "    .dataframe thead th {\n",
       "        text-align: right;\n",
       "    }\n",
       "</style>\n",
       "<table border=\"1\" class=\"dataframe\">\n",
       "  <thead>\n",
       "    <tr style=\"text-align: right;\">\n",
       "      <th></th>\n",
       "      <th>Darwins Buenos</th>\n",
       "    </tr>\n",
       "  </thead>\n",
       "  <tbody>\n",
       "    <tr>\n",
       "      <th>Peor Sesion</th>\n",
       "      <td>-45.570</td>\n",
       "    </tr>\n",
       "    <tr>\n",
       "      <th>Peor Drawdown</th>\n",
       "      <td>-117.900</td>\n",
       "    </tr>\n",
       "    <tr>\n",
       "      <th>Capital Necesario</th>\n",
       "      <td>684.000</td>\n",
       "    </tr>\n",
       "  </tbody>\n",
       "</table>\n",
       "</div>"
      ],
      "text/plain": [
       "                   Darwins Buenos\n",
       "Peor Sesion               -45.570\n",
       "Peor Drawdown            -117.900\n",
       "Capital Necesario         684.000"
      ]
     },
     "execution_count": 6,
     "metadata": {},
     "output_type": "execute_result"
    }
   ],
   "source": [
    "df_estadisticas"
   ]
  },
  {
   "cell_type": "markdown",
   "metadata": {
    "ExecuteTime": {
     "end_time": "2019-07-25T22:48:15.365851Z",
     "start_time": "2019-07-25T22:48:15.362971Z"
    }
   },
   "source": [
    "## Calculamos los retornos del portfolio y el resto de estadisticas para poder analizarlo"
   ]
  },
  {
   "cell_type": "code",
   "execution_count": 7,
   "metadata": {
    "ExecuteTime": {
     "end_time": "2019-07-25T22:19:30.521229Z",
     "start_time": "2019-07-25T22:19:30.515235Z"
    }
   },
   "outputs": [],
   "source": [
    "df_returns = (df_portfolio[\"total\"].cumsum() + capital_sugerido).pct_change().dropna() # retornos en $ + capital sugerido"
   ]
  },
  {
   "cell_type": "code",
   "execution_count": 8,
   "metadata": {
    "ExecuteTime": {
     "end_time": "2019-07-25T22:19:42.016245Z",
     "start_time": "2019-07-25T22:19:41.994215Z"
    }
   },
   "outputs": [],
   "source": [
    "df_performance = pd.DataFrame.from_dict({\n",
    "    \"PyG\": df_portfolio[\"total\"].cumsum().values[-1],\n",
    "    \"Sesiones Analizadas\": len(df_portfolio),\n",
    "    \"Sesiones Ganadoras (%)\": 100 * len(df_portfolio[df_portfolio[\"total\"]>0]) /  len(df_portfolio[df_portfolio[\"total\"]!=0]),\n",
    "    \"ROI Anualizado\": 100 * ep.annual_return(df_returns),\n",
    "    \"CAGR\" :  100 * ep.cagr(df_returns),\n",
    "    \"Volatilidad Anualizada\": 100 *  ep.annual_volatility(df_returns),\n",
    "    \"Profit Factor\":  df_returns[df_returns > 0].sum() / abs(df_returns[df_returns < 0].sum()),\n",
    "    \"Promedio Sesion Ganadora\":  df_portfolio[df_portfolio[\"total\"] > 0][\"total\"].mean(),\n",
    "    \"Promedio Sesion Perdedora\":  df_portfolio[df_portfolio[\"total\"] < 0][\"total\"].mean(),\n",
    "    \"Ratio Sharpe\": ep.sharpe_ratio(df_returns),\n",
    "    \"Ratio Sortino\": ep.sortino_ratio(df_returns),\n",
    "    \"Ratio Calmar\" :  ep.calmar_ratio(df_returns),\n",
    "    \"Tail Ratio\" : ep.tail_ratio(df_returns),\n",
    "    \"Omega Ratio\" : ep.omega_ratio(df_returns),\n",
    "    \"Peor Sesion\": peor_sesion,\n",
    "    \"Peor Drawdown\": peor_drawdown,\n",
    "    \"Min Bankroll NoBust\": capital_sugerido,\n",
    "    \"VAR95%\" : ep.value_at_risk(df_returns,0.95),\n",
    "},\"index\")\n",
    "\n",
    "df_performance.columns = [\"Portfolio Bueno\"]"
   ]
  },
  {
   "cell_type": "code",
   "execution_count": 9,
   "metadata": {
    "ExecuteTime": {
     "end_time": "2019-07-25T22:19:48.615439Z",
     "start_time": "2019-07-25T22:19:48.609433Z"
    }
   },
   "outputs": [
    {
     "data": {
      "text/html": [
       "<div>\n",
       "<style scoped>\n",
       "    .dataframe tbody tr th:only-of-type {\n",
       "        vertical-align: middle;\n",
       "    }\n",
       "\n",
       "    .dataframe tbody tr th {\n",
       "        vertical-align: top;\n",
       "    }\n",
       "\n",
       "    .dataframe thead th {\n",
       "        text-align: right;\n",
       "    }\n",
       "</style>\n",
       "<table border=\"1\" class=\"dataframe\">\n",
       "  <thead>\n",
       "    <tr style=\"text-align: right;\">\n",
       "      <th></th>\n",
       "      <th>Portfolio Bueno</th>\n",
       "    </tr>\n",
       "  </thead>\n",
       "  <tbody>\n",
       "    <tr>\n",
       "      <th>PyG</th>\n",
       "      <td>1335.560</td>\n",
       "    </tr>\n",
       "    <tr>\n",
       "      <th>Sesiones Analizadas</th>\n",
       "      <td>685.000</td>\n",
       "    </tr>\n",
       "    <tr>\n",
       "      <th>Sesiones Ganadoras (%)</th>\n",
       "      <td>57.810</td>\n",
       "    </tr>\n",
       "    <tr>\n",
       "      <th>ROI Anualizado</th>\n",
       "      <td>49.201</td>\n",
       "    </tr>\n",
       "    <tr>\n",
       "      <th>CAGR</th>\n",
       "      <td>49.201</td>\n",
       "    </tr>\n",
       "    <tr>\n",
       "      <th>Volatilidad Anualizada</th>\n",
       "      <td>14.493</td>\n",
       "    </tr>\n",
       "    <tr>\n",
       "      <th>Profit Factor</th>\n",
       "      <td>1.695</td>\n",
       "    </tr>\n",
       "    <tr>\n",
       "      <th>Promedio Sesion Ganadora</th>\n",
       "      <td>9.071</td>\n",
       "    </tr>\n",
       "    <tr>\n",
       "      <th>Promedio Sesion Perdedora</th>\n",
       "      <td>-7.809</td>\n",
       "    </tr>\n",
       "    <tr>\n",
       "      <th>Ratio Sharpe</th>\n",
       "      <td>2.835</td>\n",
       "    </tr>\n",
       "    <tr>\n",
       "      <th>Ratio Sortino</th>\n",
       "      <td>4.926</td>\n",
       "    </tr>\n",
       "    <tr>\n",
       "      <th>Ratio Calmar</th>\n",
       "      <td>6.687</td>\n",
       "    </tr>\n",
       "    <tr>\n",
       "      <th>Tail Ratio</th>\n",
       "      <td>1.440</td>\n",
       "    </tr>\n",
       "    <tr>\n",
       "      <th>Omega Ratio</th>\n",
       "      <td>1.695</td>\n",
       "    </tr>\n",
       "    <tr>\n",
       "      <th>Peor Sesion</th>\n",
       "      <td>-45.570</td>\n",
       "    </tr>\n",
       "    <tr>\n",
       "      <th>Peor Drawdown</th>\n",
       "      <td>-117.900</td>\n",
       "    </tr>\n",
       "    <tr>\n",
       "      <th>Min Bankroll NoBust</th>\n",
       "      <td>684.000</td>\n",
       "    </tr>\n",
       "    <tr>\n",
       "      <th>VAR95%</th>\n",
       "      <td>0.016</td>\n",
       "    </tr>\n",
       "  </tbody>\n",
       "</table>\n",
       "</div>"
      ],
      "text/plain": [
       "                           Portfolio Bueno\n",
       "PyG                               1335.560\n",
       "Sesiones Analizadas                685.000\n",
       "Sesiones Ganadoras (%)              57.810\n",
       "ROI Anualizado                      49.201\n",
       "CAGR                                49.201\n",
       "Volatilidad Anualizada              14.493\n",
       "Profit Factor                        1.695\n",
       "Promedio Sesion Ganadora             9.071\n",
       "Promedio Sesion Perdedora           -7.809\n",
       "Ratio Sharpe                         2.835\n",
       "Ratio Sortino                        4.926\n",
       "Ratio Calmar                         6.687\n",
       "Tail Ratio                           1.440\n",
       "Omega Ratio                          1.695\n",
       "Peor Sesion                        -45.570\n",
       "Peor Drawdown                     -117.900\n",
       "Min Bankroll NoBust                684.000\n",
       "VAR95%                               0.016"
      ]
     },
     "execution_count": 9,
     "metadata": {},
     "output_type": "execute_result"
    }
   ],
   "source": [
    "df_performance"
   ]
  },
  {
   "cell_type": "code",
   "execution_count": null,
   "metadata": {},
   "outputs": [],
   "source": [
    "fig = plt.figure(figsize=(22,9))\n",
    "\n",
    "plt.plot(df_portfolio.drop(\"total\", axis=1).cumsum())\n",
    "plt.plot(df_portfolio[\"total\"].cumsum(), linewidth=3);\n",
    "\n",
    "leg = plt.legend(df_portfolio.columns.values)\n",
    "plt.show()"
   ]
  }
 ],
 "metadata": {
  "kernelspec": {
   "display_name": "Python 3",
   "language": "python",
   "name": "python3"
  },
  "language_info": {
   "codemirror_mode": {
    "name": "ipython",
    "version": 3
   },
   "file_extension": ".py",
   "mimetype": "text/x-python",
   "name": "python",
   "nbconvert_exporter": "python",
   "pygments_lexer": "ipython3",
   "version": "3.7.3"
  },
  "varInspector": {
   "cols": {
    "lenName": 16,
    "lenType": 16,
    "lenVar": 40
   },
   "kernels_config": {
    "python": {
     "delete_cmd_postfix": "",
     "delete_cmd_prefix": "del ",
     "library": "var_list.py",
     "varRefreshCmd": "print(var_dic_list())"
    },
    "r": {
     "delete_cmd_postfix": ") ",
     "delete_cmd_prefix": "rm(",
     "library": "var_list.r",
     "varRefreshCmd": "cat(var_dic_list()) "
    }
   },
   "types_to_exclude": [
    "module",
    "function",
    "builtin_function_or_method",
    "instance",
    "_Feature"
   ],
   "window_display": false
  }
 },
 "nbformat": 4,
 "nbformat_minor": 2
}
